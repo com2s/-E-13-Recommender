{
  "nbformat": 4,
  "nbformat_minor": 0,
  "metadata": {
    "colab": {
      "provenance": [],
      "toc_visible": true,
      "collapsed_sections": []
    },
    "kernelspec": {
      "name": "python3",
      "display_name": "Python 3"
    },
    "language_info": {
      "name": "python"
    },
    "accelerator": "GPU",
    "gpuClass": "standard",
    "widgets": {
      "application/vnd.jupyter.widget-state+json": {
        "cea106d975064c02b04f5a8aaf54554c": {
          "model_module": "@jupyter-widgets/controls",
          "model_name": "HBoxModel",
          "model_module_version": "1.5.0",
          "state": {
            "_dom_classes": [],
            "_model_module": "@jupyter-widgets/controls",
            "_model_module_version": "1.5.0",
            "_model_name": "HBoxModel",
            "_view_count": null,
            "_view_module": "@jupyter-widgets/controls",
            "_view_module_version": "1.5.0",
            "_view_name": "HBoxView",
            "box_style": "",
            "children": [
              "IPY_MODEL_25b60731056d4c6b90b260f3eb30fe8a",
              "IPY_MODEL_0728569cb7cc4d1cacb297ec50954479",
              "IPY_MODEL_4b09051f7ee64297a9980c8beb1b1187"
            ],
            "layout": "IPY_MODEL_52e1cbbe45d849b88d551b93354fe74f"
          }
        },
        "25b60731056d4c6b90b260f3eb30fe8a": {
          "model_module": "@jupyter-widgets/controls",
          "model_name": "HTMLModel",
          "model_module_version": "1.5.0",
          "state": {
            "_dom_classes": [],
            "_model_module": "@jupyter-widgets/controls",
            "_model_module_version": "1.5.0",
            "_model_name": "HTMLModel",
            "_view_count": null,
            "_view_module": "@jupyter-widgets/controls",
            "_view_module_version": "1.5.0",
            "_view_name": "HTMLView",
            "description": "",
            "description_tooltip": null,
            "layout": "IPY_MODEL_5af6618ce67f4c1f9127d197006ec861",
            "placeholder": "​",
            "style": "IPY_MODEL_3ad9fe34002145e29dd6b4d694980ce2",
            "value": "100%"
          }
        },
        "0728569cb7cc4d1cacb297ec50954479": {
          "model_module": "@jupyter-widgets/controls",
          "model_name": "FloatProgressModel",
          "model_module_version": "1.5.0",
          "state": {
            "_dom_classes": [],
            "_model_module": "@jupyter-widgets/controls",
            "_model_module_version": "1.5.0",
            "_model_name": "FloatProgressModel",
            "_view_count": null,
            "_view_module": "@jupyter-widgets/controls",
            "_view_module_version": "1.5.0",
            "_view_name": "ProgressView",
            "bar_style": "success",
            "description": "",
            "description_tooltip": null,
            "layout": "IPY_MODEL_e9cd8dbaff1949748e2feb5feae88724",
            "max": 25,
            "min": 0,
            "orientation": "horizontal",
            "style": "IPY_MODEL_64806e5776874dceb685bf31c24ea213",
            "value": 25
          }
        },
        "4b09051f7ee64297a9980c8beb1b1187": {
          "model_module": "@jupyter-widgets/controls",
          "model_name": "HTMLModel",
          "model_module_version": "1.5.0",
          "state": {
            "_dom_classes": [],
            "_model_module": "@jupyter-widgets/controls",
            "_model_module_version": "1.5.0",
            "_model_name": "HTMLModel",
            "_view_count": null,
            "_view_module": "@jupyter-widgets/controls",
            "_view_module_version": "1.5.0",
            "_view_name": "HTMLView",
            "description": "",
            "description_tooltip": null,
            "layout": "IPY_MODEL_70cad7bea5b649419808f57bfa0ff734",
            "placeholder": "​",
            "style": "IPY_MODEL_9b2b8d2364ff4f0491896bb8ec161ffe",
            "value": " 25/25 [01:56&lt;00:00,  4.80s/it]"
          }
        },
        "52e1cbbe45d849b88d551b93354fe74f": {
          "model_module": "@jupyter-widgets/base",
          "model_name": "LayoutModel",
          "model_module_version": "1.2.0",
          "state": {
            "_model_module": "@jupyter-widgets/base",
            "_model_module_version": "1.2.0",
            "_model_name": "LayoutModel",
            "_view_count": null,
            "_view_module": "@jupyter-widgets/base",
            "_view_module_version": "1.2.0",
            "_view_name": "LayoutView",
            "align_content": null,
            "align_items": null,
            "align_self": null,
            "border": null,
            "bottom": null,
            "display": null,
            "flex": null,
            "flex_flow": null,
            "grid_area": null,
            "grid_auto_columns": null,
            "grid_auto_flow": null,
            "grid_auto_rows": null,
            "grid_column": null,
            "grid_gap": null,
            "grid_row": null,
            "grid_template_areas": null,
            "grid_template_columns": null,
            "grid_template_rows": null,
            "height": null,
            "justify_content": null,
            "justify_items": null,
            "left": null,
            "margin": null,
            "max_height": null,
            "max_width": null,
            "min_height": null,
            "min_width": null,
            "object_fit": null,
            "object_position": null,
            "order": null,
            "overflow": null,
            "overflow_x": null,
            "overflow_y": null,
            "padding": null,
            "right": null,
            "top": null,
            "visibility": null,
            "width": null
          }
        },
        "5af6618ce67f4c1f9127d197006ec861": {
          "model_module": "@jupyter-widgets/base",
          "model_name": "LayoutModel",
          "model_module_version": "1.2.0",
          "state": {
            "_model_module": "@jupyter-widgets/base",
            "_model_module_version": "1.2.0",
            "_model_name": "LayoutModel",
            "_view_count": null,
            "_view_module": "@jupyter-widgets/base",
            "_view_module_version": "1.2.0",
            "_view_name": "LayoutView",
            "align_content": null,
            "align_items": null,
            "align_self": null,
            "border": null,
            "bottom": null,
            "display": null,
            "flex": null,
            "flex_flow": null,
            "grid_area": null,
            "grid_auto_columns": null,
            "grid_auto_flow": null,
            "grid_auto_rows": null,
            "grid_column": null,
            "grid_gap": null,
            "grid_row": null,
            "grid_template_areas": null,
            "grid_template_columns": null,
            "grid_template_rows": null,
            "height": null,
            "justify_content": null,
            "justify_items": null,
            "left": null,
            "margin": null,
            "max_height": null,
            "max_width": null,
            "min_height": null,
            "min_width": null,
            "object_fit": null,
            "object_position": null,
            "order": null,
            "overflow": null,
            "overflow_x": null,
            "overflow_y": null,
            "padding": null,
            "right": null,
            "top": null,
            "visibility": null,
            "width": null
          }
        },
        "3ad9fe34002145e29dd6b4d694980ce2": {
          "model_module": "@jupyter-widgets/controls",
          "model_name": "DescriptionStyleModel",
          "model_module_version": "1.5.0",
          "state": {
            "_model_module": "@jupyter-widgets/controls",
            "_model_module_version": "1.5.0",
            "_model_name": "DescriptionStyleModel",
            "_view_count": null,
            "_view_module": "@jupyter-widgets/base",
            "_view_module_version": "1.2.0",
            "_view_name": "StyleView",
            "description_width": ""
          }
        },
        "e9cd8dbaff1949748e2feb5feae88724": {
          "model_module": "@jupyter-widgets/base",
          "model_name": "LayoutModel",
          "model_module_version": "1.2.0",
          "state": {
            "_model_module": "@jupyter-widgets/base",
            "_model_module_version": "1.2.0",
            "_model_name": "LayoutModel",
            "_view_count": null,
            "_view_module": "@jupyter-widgets/base",
            "_view_module_version": "1.2.0",
            "_view_name": "LayoutView",
            "align_content": null,
            "align_items": null,
            "align_self": null,
            "border": null,
            "bottom": null,
            "display": null,
            "flex": null,
            "flex_flow": null,
            "grid_area": null,
            "grid_auto_columns": null,
            "grid_auto_flow": null,
            "grid_auto_rows": null,
            "grid_column": null,
            "grid_gap": null,
            "grid_row": null,
            "grid_template_areas": null,
            "grid_template_columns": null,
            "grid_template_rows": null,
            "height": null,
            "justify_content": null,
            "justify_items": null,
            "left": null,
            "margin": null,
            "max_height": null,
            "max_width": null,
            "min_height": null,
            "min_width": null,
            "object_fit": null,
            "object_position": null,
            "order": null,
            "overflow": null,
            "overflow_x": null,
            "overflow_y": null,
            "padding": null,
            "right": null,
            "top": null,
            "visibility": null,
            "width": null
          }
        },
        "64806e5776874dceb685bf31c24ea213": {
          "model_module": "@jupyter-widgets/controls",
          "model_name": "ProgressStyleModel",
          "model_module_version": "1.5.0",
          "state": {
            "_model_module": "@jupyter-widgets/controls",
            "_model_module_version": "1.5.0",
            "_model_name": "ProgressStyleModel",
            "_view_count": null,
            "_view_module": "@jupyter-widgets/base",
            "_view_module_version": "1.2.0",
            "_view_name": "StyleView",
            "bar_color": null,
            "description_width": ""
          }
        },
        "70cad7bea5b649419808f57bfa0ff734": {
          "model_module": "@jupyter-widgets/base",
          "model_name": "LayoutModel",
          "model_module_version": "1.2.0",
          "state": {
            "_model_module": "@jupyter-widgets/base",
            "_model_module_version": "1.2.0",
            "_model_name": "LayoutModel",
            "_view_count": null,
            "_view_module": "@jupyter-widgets/base",
            "_view_module_version": "1.2.0",
            "_view_name": "LayoutView",
            "align_content": null,
            "align_items": null,
            "align_self": null,
            "border": null,
            "bottom": null,
            "display": null,
            "flex": null,
            "flex_flow": null,
            "grid_area": null,
            "grid_auto_columns": null,
            "grid_auto_flow": null,
            "grid_auto_rows": null,
            "grid_column": null,
            "grid_gap": null,
            "grid_row": null,
            "grid_template_areas": null,
            "grid_template_columns": null,
            "grid_template_rows": null,
            "height": null,
            "justify_content": null,
            "justify_items": null,
            "left": null,
            "margin": null,
            "max_height": null,
            "max_width": null,
            "min_height": null,
            "min_width": null,
            "object_fit": null,
            "object_position": null,
            "order": null,
            "overflow": null,
            "overflow_x": null,
            "overflow_y": null,
            "padding": null,
            "right": null,
            "top": null,
            "visibility": null,
            "width": null
          }
        },
        "9b2b8d2364ff4f0491896bb8ec161ffe": {
          "model_module": "@jupyter-widgets/controls",
          "model_name": "DescriptionStyleModel",
          "model_module_version": "1.5.0",
          "state": {
            "_model_module": "@jupyter-widgets/controls",
            "_model_module_version": "1.5.0",
            "_model_name": "DescriptionStyleModel",
            "_view_count": null,
            "_view_module": "@jupyter-widgets/base",
            "_view_module_version": "1.2.0",
            "_view_name": "StyleView",
            "description_width": ""
          }
        }
      }
    }
  },
  "cells": [
    {
      "cell_type": "markdown",
      "source": [
        "# 목차\n",
        "\n",
        "* 학습 목표\n",
        "* 데이터 준비와 전처리\n",
        "* 모델 학습하기\n",
        "* 영화 추천 받기\n",
        "* 회고"
      ],
      "metadata": {
        "id": "xCiesRIGX1au"
      }
    },
    {
      "cell_type": "markdown",
      "source": [
        "# 학습 목표 \n",
        "\n",
        "루브릭\n",
        "\n",
        "아래의 기준을 바탕으로 프로젝트를 평가합니다.\n",
        "\n",
        "----------\n",
        "\n",
        "평가문항\t상세기준\n",
        "\n",
        "1. CSR matrix가 정상적으로 만들어졌다.\n",
        "\n",
        "> 사용자와 아이템 개수를 바탕으로 정확한 사이즈로 만들었다.\n",
        "\n",
        "2. MF 모델이 정상적으로 훈련되어 그럴듯한 추천이 이루어졌다.\n",
        "\n",
        "> 사용자와 아이템 벡터 내적수치가 의미있게 형성되었다.\n",
        "\n",
        "3. 비슷한 영화 찾기와 유저에게 추천하기의 과정이 정상적으로 진행되었다.\n",
        "\n",
        "> MF모델이 예측한 유저 선호도 및 아이템간 유사도, 기여도를 측정하고 의미를 분석해보았다."
      ],
      "metadata": {
        "id": "Z37c8wakYBvT"
      }
    },
    {
      "cell_type": "code",
      "execution_count": 20,
      "metadata": {
        "id": "z4FyngCec332",
        "colab": {
          "base_uri": "https://localhost:8080/"
        },
        "outputId": "f7fc2972-9b16-4f47-d145-9d715e38dc87"
      },
      "outputs": [
        {
          "output_type": "stream",
          "name": "stdout",
          "text": [
            "Looking in indexes: https://pypi.org/simple, https://us-python.pkg.dev/colab-wheels/public/simple/\n",
            "Requirement already satisfied: pip in /usr/local/lib/python3.7/dist-packages (22.3)\n",
            "Requirement already satisfied: setuptools in /usr/local/lib/python3.7/dist-packages (65.5.0)\n",
            "Requirement already satisfied: wheel in /usr/local/lib/python3.7/dist-packages (0.38.1)\n",
            "\u001b[33mWARNING: Running pip as the 'root' user can result in broken permissions and conflicting behaviour with the system package manager. It is recommended to use a virtual environment instead: https://pip.pypa.io/warnings/venv\u001b[0m\u001b[33m\n",
            "\u001b[0m"
          ]
        }
      ],
      "source": [
        "!pip install --upgrade pip setuptools wheel"
      ]
    },
    {
      "cell_type": "code",
      "source": [
        "!pip install implicit==0.4.8"
      ],
      "metadata": {
        "colab": {
          "base_uri": "https://localhost:8080/"
        },
        "id": "0d_WO5iuf-0E",
        "outputId": "7c6c947c-4fa4-4340-8293-18ee09713bf4"
      },
      "execution_count": 21,
      "outputs": [
        {
          "output_type": "stream",
          "name": "stdout",
          "text": [
            "Looking in indexes: https://pypi.org/simple, https://us-python.pkg.dev/colab-wheels/public/simple/\n",
            "Requirement already satisfied: implicit==0.4.8 in /usr/local/lib/python3.7/dist-packages (0.4.8)\n",
            "Requirement already satisfied: tqdm>=4.27 in /usr/local/lib/python3.7/dist-packages (from implicit==0.4.8) (4.64.1)\n",
            "Requirement already satisfied: scipy>=0.16 in /usr/local/lib/python3.7/dist-packages (from implicit==0.4.8) (1.7.3)\n",
            "Requirement already satisfied: numpy in /usr/local/lib/python3.7/dist-packages (from implicit==0.4.8) (1.21.6)\n",
            "\u001b[33mWARNING: Running pip as the 'root' user can result in broken permissions and conflicting behaviour with the system package manager. It is recommended to use a virtual environment instead: https://pip.pypa.io/warnings/venv\u001b[0m\u001b[33m\n",
            "\u001b[0m"
          ]
        }
      ]
    },
    {
      "cell_type": "code",
      "source": [
        "import numpy as np\n",
        "import scipy\n",
        "import implicit\n",
        "\n",
        "print(np.__version__)\n",
        "print(scipy.__version__)\n",
        "print(implicit.__version__)"
      ],
      "metadata": {
        "colab": {
          "base_uri": "https://localhost:8080/"
        },
        "id": "iU6YI7iegmFX",
        "outputId": "b97f4727-a774-460c-daff-e109327b3830"
      },
      "execution_count": 22,
      "outputs": [
        {
          "output_type": "stream",
          "name": "stdout",
          "text": [
            "1.21.6\n",
            "1.7.3\n",
            "0.4.8\n"
          ]
        }
      ]
    },
    {
      "cell_type": "code",
      "source": [
        "import pandas as pd\n"
      ],
      "metadata": {
        "id": "z2NN1g3yibsy"
      },
      "execution_count": 23,
      "outputs": []
    },
    {
      "cell_type": "markdown",
      "source": [
        "# 데이터 준비와 전처리\n",
        "\n",
        "* 유저가 영화에 대해 평점을 매긴 데이터가 데이터 크기 별로 있습니다. MovieLens 1M Dataset 사용을 권장합니다.\n",
        "* 별점 데이터는 대표적인 explicit 데이터입니다. 하지만 implicit 데이터로 간주하고 테스트해 볼 수 있습니다.\n",
        "* 별점을 시청횟수로 해석해서 생각하겠습니다.\n",
        "* 또한 유저가 3점 미만으로 준 데이터는 선호하지 않는다고 가정하고 제외하겠습니다."
      ],
      "metadata": {
        "id": "mAD9e9MhiRvH"
      }
    },
    {
      "cell_type": "markdown",
      "source": [
        "## 데이터 준비"
      ],
      "metadata": {
        "id": "waPDem8N1Nss"
      }
    },
    {
      "cell_type": "code",
      "source": [
        "rating_file_path='/content/drive/MyDrive/아이펠 데이터/exp13_추천시스템/data/ratings.dat'\n",
        "ratings_cols = ['user_id', 'movie_id', 'ratings', 'timestamp']\n",
        "ratings = pd.read_csv(rating_file_path, sep='::', names=ratings_cols, engine='python', encoding = \"ISO-8859-1\")\n",
        "orginal_data_size = len(ratings)\n",
        "ratings.head()"
      ],
      "metadata": {
        "colab": {
          "base_uri": "https://localhost:8080/",
          "height": 206
        },
        "id": "nrur7GdTiPkv",
        "outputId": "1fd82ea1-aaa3-4062-c0e2-6bc14f935ec2"
      },
      "execution_count": 52,
      "outputs": [
        {
          "output_type": "execute_result",
          "data": {
            "text/plain": [
              "   user_id  movie_id  ratings  timestamp\n",
              "0        1      1193        5  978300760\n",
              "1        1       661        3  978302109\n",
              "2        1       914        3  978301968\n",
              "3        1      3408        4  978300275\n",
              "4        1      2355        5  978824291"
            ],
            "text/html": [
              "\n",
              "  <div id=\"df-cddadeda-1743-4ddc-a86b-989c3518daa5\">\n",
              "    <div class=\"colab-df-container\">\n",
              "      <div>\n",
              "<style scoped>\n",
              "    .dataframe tbody tr th:only-of-type {\n",
              "        vertical-align: middle;\n",
              "    }\n",
              "\n",
              "    .dataframe tbody tr th {\n",
              "        vertical-align: top;\n",
              "    }\n",
              "\n",
              "    .dataframe thead th {\n",
              "        text-align: right;\n",
              "    }\n",
              "</style>\n",
              "<table border=\"1\" class=\"dataframe\">\n",
              "  <thead>\n",
              "    <tr style=\"text-align: right;\">\n",
              "      <th></th>\n",
              "      <th>user_id</th>\n",
              "      <th>movie_id</th>\n",
              "      <th>ratings</th>\n",
              "      <th>timestamp</th>\n",
              "    </tr>\n",
              "  </thead>\n",
              "  <tbody>\n",
              "    <tr>\n",
              "      <th>0</th>\n",
              "      <td>1</td>\n",
              "      <td>1193</td>\n",
              "      <td>5</td>\n",
              "      <td>978300760</td>\n",
              "    </tr>\n",
              "    <tr>\n",
              "      <th>1</th>\n",
              "      <td>1</td>\n",
              "      <td>661</td>\n",
              "      <td>3</td>\n",
              "      <td>978302109</td>\n",
              "    </tr>\n",
              "    <tr>\n",
              "      <th>2</th>\n",
              "      <td>1</td>\n",
              "      <td>914</td>\n",
              "      <td>3</td>\n",
              "      <td>978301968</td>\n",
              "    </tr>\n",
              "    <tr>\n",
              "      <th>3</th>\n",
              "      <td>1</td>\n",
              "      <td>3408</td>\n",
              "      <td>4</td>\n",
              "      <td>978300275</td>\n",
              "    </tr>\n",
              "    <tr>\n",
              "      <th>4</th>\n",
              "      <td>1</td>\n",
              "      <td>2355</td>\n",
              "      <td>5</td>\n",
              "      <td>978824291</td>\n",
              "    </tr>\n",
              "  </tbody>\n",
              "</table>\n",
              "</div>\n",
              "      <button class=\"colab-df-convert\" onclick=\"convertToInteractive('df-cddadeda-1743-4ddc-a86b-989c3518daa5')\"\n",
              "              title=\"Convert this dataframe to an interactive table.\"\n",
              "              style=\"display:none;\">\n",
              "        \n",
              "  <svg xmlns=\"http://www.w3.org/2000/svg\" height=\"24px\"viewBox=\"0 0 24 24\"\n",
              "       width=\"24px\">\n",
              "    <path d=\"M0 0h24v24H0V0z\" fill=\"none\"/>\n",
              "    <path d=\"M18.56 5.44l.94 2.06.94-2.06 2.06-.94-2.06-.94-.94-2.06-.94 2.06-2.06.94zm-11 1L8.5 8.5l.94-2.06 2.06-.94-2.06-.94L8.5 2.5l-.94 2.06-2.06.94zm10 10l.94 2.06.94-2.06 2.06-.94-2.06-.94-.94-2.06-.94 2.06-2.06.94z\"/><path d=\"M17.41 7.96l-1.37-1.37c-.4-.4-.92-.59-1.43-.59-.52 0-1.04.2-1.43.59L10.3 9.45l-7.72 7.72c-.78.78-.78 2.05 0 2.83L4 21.41c.39.39.9.59 1.41.59.51 0 1.02-.2 1.41-.59l7.78-7.78 2.81-2.81c.8-.78.8-2.07 0-2.86zM5.41 20L4 18.59l7.72-7.72 1.47 1.35L5.41 20z\"/>\n",
              "  </svg>\n",
              "      </button>\n",
              "      \n",
              "  <style>\n",
              "    .colab-df-container {\n",
              "      display:flex;\n",
              "      flex-wrap:wrap;\n",
              "      gap: 12px;\n",
              "    }\n",
              "\n",
              "    .colab-df-convert {\n",
              "      background-color: #E8F0FE;\n",
              "      border: none;\n",
              "      border-radius: 50%;\n",
              "      cursor: pointer;\n",
              "      display: none;\n",
              "      fill: #1967D2;\n",
              "      height: 32px;\n",
              "      padding: 0 0 0 0;\n",
              "      width: 32px;\n",
              "    }\n",
              "\n",
              "    .colab-df-convert:hover {\n",
              "      background-color: #E2EBFA;\n",
              "      box-shadow: 0px 1px 2px rgba(60, 64, 67, 0.3), 0px 1px 3px 1px rgba(60, 64, 67, 0.15);\n",
              "      fill: #174EA6;\n",
              "    }\n",
              "\n",
              "    [theme=dark] .colab-df-convert {\n",
              "      background-color: #3B4455;\n",
              "      fill: #D2E3FC;\n",
              "    }\n",
              "\n",
              "    [theme=dark] .colab-df-convert:hover {\n",
              "      background-color: #434B5C;\n",
              "      box-shadow: 0px 1px 3px 1px rgba(0, 0, 0, 0.15);\n",
              "      filter: drop-shadow(0px 1px 2px rgba(0, 0, 0, 0.3));\n",
              "      fill: #FFFFFF;\n",
              "    }\n",
              "  </style>\n",
              "\n",
              "      <script>\n",
              "        const buttonEl =\n",
              "          document.querySelector('#df-cddadeda-1743-4ddc-a86b-989c3518daa5 button.colab-df-convert');\n",
              "        buttonEl.style.display =\n",
              "          google.colab.kernel.accessAllowed ? 'block' : 'none';\n",
              "\n",
              "        async function convertToInteractive(key) {\n",
              "          const element = document.querySelector('#df-cddadeda-1743-4ddc-a86b-989c3518daa5');\n",
              "          const dataTable =\n",
              "            await google.colab.kernel.invokeFunction('convertToInteractive',\n",
              "                                                     [key], {});\n",
              "          if (!dataTable) return;\n",
              "\n",
              "          const docLinkHtml = 'Like what you see? Visit the ' +\n",
              "            '<a target=\"_blank\" href=https://colab.research.google.com/notebooks/data_table.ipynb>data table notebook</a>'\n",
              "            + ' to learn more about interactive tables.';\n",
              "          element.innerHTML = '';\n",
              "          dataTable['output_type'] = 'display_data';\n",
              "          await google.colab.output.renderOutput(dataTable, element);\n",
              "          const docLink = document.createElement('div');\n",
              "          docLink.innerHTML = docLinkHtml;\n",
              "          element.appendChild(docLink);\n",
              "        }\n",
              "      </script>\n",
              "    </div>\n",
              "  </div>\n",
              "  "
            ]
          },
          "metadata": {},
          "execution_count": 52
        }
      ]
    },
    {
      "cell_type": "code",
      "source": [
        "# 3점 이상만 남깁니다.\n",
        "ratings = ratings[ratings['ratings']>=3]\n",
        "filtered_data_size = len(ratings)\n",
        "\n",
        "print(f'orginal_data_size: {orginal_data_size}, filtered_data_size: {filtered_data_size}')\n",
        "print(f'Ratio of Remaining Data is {filtered_data_size / orginal_data_size:.2%}')"
      ],
      "metadata": {
        "colab": {
          "base_uri": "https://localhost:8080/"
        },
        "id": "pdZJh4hilOaw",
        "outputId": "028cc212-4d16-4a91-d811-49eb7c1840ab"
      },
      "execution_count": 53,
      "outputs": [
        {
          "output_type": "stream",
          "name": "stdout",
          "text": [
            "orginal_data_size: 1000209, filtered_data_size: 836478\n",
            "Ratio of Remaining Data is 83.63%\n"
          ]
        }
      ]
    },
    {
      "cell_type": "code",
      "source": [
        "# ratings 컬럼의 이름을 counts로 바꿉니다.\n",
        "ratings.rename(columns={'ratings':'counts'}, inplace=True)"
      ],
      "metadata": {
        "id": "UYDgNfqslOY3"
      },
      "execution_count": 54,
      "outputs": []
    },
    {
      "cell_type": "code",
      "source": [
        "ratings['counts']"
      ],
      "metadata": {
        "colab": {
          "base_uri": "https://localhost:8080/"
        },
        "id": "W51KPTj2lOWp",
        "outputId": "44737401-a02a-4ca9-c03b-7a095df14052"
      },
      "execution_count": 55,
      "outputs": [
        {
          "output_type": "execute_result",
          "data": {
            "text/plain": [
              "0          5\n",
              "1          3\n",
              "2          3\n",
              "3          4\n",
              "4          5\n",
              "          ..\n",
              "1000203    3\n",
              "1000205    5\n",
              "1000206    5\n",
              "1000207    4\n",
              "1000208    4\n",
              "Name: counts, Length: 836478, dtype: int64"
            ]
          },
          "metadata": {},
          "execution_count": 55
        }
      ]
    },
    {
      "cell_type": "code",
      "source": [
        "# 사용하는 컬럼만 남겨줍니다.\n",
        "using_cols = ['user_id', 'movie_id', 'counts']\n",
        "ratings = ratings[using_cols]\n",
        "ratings.head(10)"
      ],
      "metadata": {
        "colab": {
          "base_uri": "https://localhost:8080/",
          "height": 363
        },
        "id": "nvKuk89KCqJ5",
        "outputId": "8ac3c3ee-ebe5-455a-c384-7c378b70fae5"
      },
      "execution_count": 56,
      "outputs": [
        {
          "output_type": "execute_result",
          "data": {
            "text/plain": [
              "   user_id  movie_id  counts\n",
              "0        1      1193       5\n",
              "1        1       661       3\n",
              "2        1       914       3\n",
              "3        1      3408       4\n",
              "4        1      2355       5\n",
              "5        1      1197       3\n",
              "6        1      1287       5\n",
              "7        1      2804       5\n",
              "8        1       594       4\n",
              "9        1       919       4"
            ],
            "text/html": [
              "\n",
              "  <div id=\"df-07895948-31c3-4cd0-8b34-2f3a1ab10c4b\">\n",
              "    <div class=\"colab-df-container\">\n",
              "      <div>\n",
              "<style scoped>\n",
              "    .dataframe tbody tr th:only-of-type {\n",
              "        vertical-align: middle;\n",
              "    }\n",
              "\n",
              "    .dataframe tbody tr th {\n",
              "        vertical-align: top;\n",
              "    }\n",
              "\n",
              "    .dataframe thead th {\n",
              "        text-align: right;\n",
              "    }\n",
              "</style>\n",
              "<table border=\"1\" class=\"dataframe\">\n",
              "  <thead>\n",
              "    <tr style=\"text-align: right;\">\n",
              "      <th></th>\n",
              "      <th>user_id</th>\n",
              "      <th>movie_id</th>\n",
              "      <th>counts</th>\n",
              "    </tr>\n",
              "  </thead>\n",
              "  <tbody>\n",
              "    <tr>\n",
              "      <th>0</th>\n",
              "      <td>1</td>\n",
              "      <td>1193</td>\n",
              "      <td>5</td>\n",
              "    </tr>\n",
              "    <tr>\n",
              "      <th>1</th>\n",
              "      <td>1</td>\n",
              "      <td>661</td>\n",
              "      <td>3</td>\n",
              "    </tr>\n",
              "    <tr>\n",
              "      <th>2</th>\n",
              "      <td>1</td>\n",
              "      <td>914</td>\n",
              "      <td>3</td>\n",
              "    </tr>\n",
              "    <tr>\n",
              "      <th>3</th>\n",
              "      <td>1</td>\n",
              "      <td>3408</td>\n",
              "      <td>4</td>\n",
              "    </tr>\n",
              "    <tr>\n",
              "      <th>4</th>\n",
              "      <td>1</td>\n",
              "      <td>2355</td>\n",
              "      <td>5</td>\n",
              "    </tr>\n",
              "    <tr>\n",
              "      <th>5</th>\n",
              "      <td>1</td>\n",
              "      <td>1197</td>\n",
              "      <td>3</td>\n",
              "    </tr>\n",
              "    <tr>\n",
              "      <th>6</th>\n",
              "      <td>1</td>\n",
              "      <td>1287</td>\n",
              "      <td>5</td>\n",
              "    </tr>\n",
              "    <tr>\n",
              "      <th>7</th>\n",
              "      <td>1</td>\n",
              "      <td>2804</td>\n",
              "      <td>5</td>\n",
              "    </tr>\n",
              "    <tr>\n",
              "      <th>8</th>\n",
              "      <td>1</td>\n",
              "      <td>594</td>\n",
              "      <td>4</td>\n",
              "    </tr>\n",
              "    <tr>\n",
              "      <th>9</th>\n",
              "      <td>1</td>\n",
              "      <td>919</td>\n",
              "      <td>4</td>\n",
              "    </tr>\n",
              "  </tbody>\n",
              "</table>\n",
              "</div>\n",
              "      <button class=\"colab-df-convert\" onclick=\"convertToInteractive('df-07895948-31c3-4cd0-8b34-2f3a1ab10c4b')\"\n",
              "              title=\"Convert this dataframe to an interactive table.\"\n",
              "              style=\"display:none;\">\n",
              "        \n",
              "  <svg xmlns=\"http://www.w3.org/2000/svg\" height=\"24px\"viewBox=\"0 0 24 24\"\n",
              "       width=\"24px\">\n",
              "    <path d=\"M0 0h24v24H0V0z\" fill=\"none\"/>\n",
              "    <path d=\"M18.56 5.44l.94 2.06.94-2.06 2.06-.94-2.06-.94-.94-2.06-.94 2.06-2.06.94zm-11 1L8.5 8.5l.94-2.06 2.06-.94-2.06-.94L8.5 2.5l-.94 2.06-2.06.94zm10 10l.94 2.06.94-2.06 2.06-.94-2.06-.94-.94-2.06-.94 2.06-2.06.94z\"/><path d=\"M17.41 7.96l-1.37-1.37c-.4-.4-.92-.59-1.43-.59-.52 0-1.04.2-1.43.59L10.3 9.45l-7.72 7.72c-.78.78-.78 2.05 0 2.83L4 21.41c.39.39.9.59 1.41.59.51 0 1.02-.2 1.41-.59l7.78-7.78 2.81-2.81c.8-.78.8-2.07 0-2.86zM5.41 20L4 18.59l7.72-7.72 1.47 1.35L5.41 20z\"/>\n",
              "  </svg>\n",
              "      </button>\n",
              "      \n",
              "  <style>\n",
              "    .colab-df-container {\n",
              "      display:flex;\n",
              "      flex-wrap:wrap;\n",
              "      gap: 12px;\n",
              "    }\n",
              "\n",
              "    .colab-df-convert {\n",
              "      background-color: #E8F0FE;\n",
              "      border: none;\n",
              "      border-radius: 50%;\n",
              "      cursor: pointer;\n",
              "      display: none;\n",
              "      fill: #1967D2;\n",
              "      height: 32px;\n",
              "      padding: 0 0 0 0;\n",
              "      width: 32px;\n",
              "    }\n",
              "\n",
              "    .colab-df-convert:hover {\n",
              "      background-color: #E2EBFA;\n",
              "      box-shadow: 0px 1px 2px rgba(60, 64, 67, 0.3), 0px 1px 3px 1px rgba(60, 64, 67, 0.15);\n",
              "      fill: #174EA6;\n",
              "    }\n",
              "\n",
              "    [theme=dark] .colab-df-convert {\n",
              "      background-color: #3B4455;\n",
              "      fill: #D2E3FC;\n",
              "    }\n",
              "\n",
              "    [theme=dark] .colab-df-convert:hover {\n",
              "      background-color: #434B5C;\n",
              "      box-shadow: 0px 1px 3px 1px rgba(0, 0, 0, 0.15);\n",
              "      filter: drop-shadow(0px 1px 2px rgba(0, 0, 0, 0.3));\n",
              "      fill: #FFFFFF;\n",
              "    }\n",
              "  </style>\n",
              "\n",
              "      <script>\n",
              "        const buttonEl =\n",
              "          document.querySelector('#df-07895948-31c3-4cd0-8b34-2f3a1ab10c4b button.colab-df-convert');\n",
              "        buttonEl.style.display =\n",
              "          google.colab.kernel.accessAllowed ? 'block' : 'none';\n",
              "\n",
              "        async function convertToInteractive(key) {\n",
              "          const element = document.querySelector('#df-07895948-31c3-4cd0-8b34-2f3a1ab10c4b');\n",
              "          const dataTable =\n",
              "            await google.colab.kernel.invokeFunction('convertToInteractive',\n",
              "                                                     [key], {});\n",
              "          if (!dataTable) return;\n",
              "\n",
              "          const docLinkHtml = 'Like what you see? Visit the ' +\n",
              "            '<a target=\"_blank\" href=https://colab.research.google.com/notebooks/data_table.ipynb>data table notebook</a>'\n",
              "            + ' to learn more about interactive tables.';\n",
              "          element.innerHTML = '';\n",
              "          dataTable['output_type'] = 'display_data';\n",
              "          await google.colab.output.renderOutput(dataTable, element);\n",
              "          const docLink = document.createElement('div');\n",
              "          docLink.innerHTML = docLinkHtml;\n",
              "          element.appendChild(docLink);\n",
              "        }\n",
              "      </script>\n",
              "    </div>\n",
              "  </div>\n",
              "  "
            ]
          },
          "metadata": {},
          "execution_count": 56
        }
      ]
    },
    {
      "cell_type": "code",
      "source": [
        "# 영화 제목을 보기 위해 메타 데이터를 읽어옵니다.\n",
        "movie_file_path='/content/drive/MyDrive/아이펠 데이터/exp13_추천시스템/data/movies.dat'\n",
        "cols = ['movie_id', 'title', 'genre'] \n",
        "movies = pd.read_csv(movie_file_path, sep='::', names=cols, engine='python', encoding='ISO-8859-1')\n",
        "movies"
      ],
      "metadata": {
        "colab": {
          "base_uri": "https://localhost:8080/",
          "height": 424
        },
        "id": "4kCdoHEUlOUH",
        "outputId": "9b548c4f-6207-44a0-a611-90d7cca1e9cf"
      },
      "execution_count": 57,
      "outputs": [
        {
          "output_type": "execute_result",
          "data": {
            "text/plain": [
              "      movie_id                               title  \\\n",
              "0            1                    Toy Story (1995)   \n",
              "1            2                      Jumanji (1995)   \n",
              "2            3             Grumpier Old Men (1995)   \n",
              "3            4            Waiting to Exhale (1995)   \n",
              "4            5  Father of the Bride Part II (1995)   \n",
              "...        ...                                 ...   \n",
              "3878      3948             Meet the Parents (2000)   \n",
              "3879      3949          Requiem for a Dream (2000)   \n",
              "3880      3950                    Tigerland (2000)   \n",
              "3881      3951             Two Family House (2000)   \n",
              "3882      3952               Contender, The (2000)   \n",
              "\n",
              "                             genre  \n",
              "0      Animation|Children's|Comedy  \n",
              "1     Adventure|Children's|Fantasy  \n",
              "2                   Comedy|Romance  \n",
              "3                     Comedy|Drama  \n",
              "4                           Comedy  \n",
              "...                            ...  \n",
              "3878                        Comedy  \n",
              "3879                         Drama  \n",
              "3880                         Drama  \n",
              "3881                         Drama  \n",
              "3882                Drama|Thriller  \n",
              "\n",
              "[3883 rows x 3 columns]"
            ],
            "text/html": [
              "\n",
              "  <div id=\"df-ab98cacd-46ca-4fe9-9b8f-a37c9ca7f89d\">\n",
              "    <div class=\"colab-df-container\">\n",
              "      <div>\n",
              "<style scoped>\n",
              "    .dataframe tbody tr th:only-of-type {\n",
              "        vertical-align: middle;\n",
              "    }\n",
              "\n",
              "    .dataframe tbody tr th {\n",
              "        vertical-align: top;\n",
              "    }\n",
              "\n",
              "    .dataframe thead th {\n",
              "        text-align: right;\n",
              "    }\n",
              "</style>\n",
              "<table border=\"1\" class=\"dataframe\">\n",
              "  <thead>\n",
              "    <tr style=\"text-align: right;\">\n",
              "      <th></th>\n",
              "      <th>movie_id</th>\n",
              "      <th>title</th>\n",
              "      <th>genre</th>\n",
              "    </tr>\n",
              "  </thead>\n",
              "  <tbody>\n",
              "    <tr>\n",
              "      <th>0</th>\n",
              "      <td>1</td>\n",
              "      <td>Toy Story (1995)</td>\n",
              "      <td>Animation|Children's|Comedy</td>\n",
              "    </tr>\n",
              "    <tr>\n",
              "      <th>1</th>\n",
              "      <td>2</td>\n",
              "      <td>Jumanji (1995)</td>\n",
              "      <td>Adventure|Children's|Fantasy</td>\n",
              "    </tr>\n",
              "    <tr>\n",
              "      <th>2</th>\n",
              "      <td>3</td>\n",
              "      <td>Grumpier Old Men (1995)</td>\n",
              "      <td>Comedy|Romance</td>\n",
              "    </tr>\n",
              "    <tr>\n",
              "      <th>3</th>\n",
              "      <td>4</td>\n",
              "      <td>Waiting to Exhale (1995)</td>\n",
              "      <td>Comedy|Drama</td>\n",
              "    </tr>\n",
              "    <tr>\n",
              "      <th>4</th>\n",
              "      <td>5</td>\n",
              "      <td>Father of the Bride Part II (1995)</td>\n",
              "      <td>Comedy</td>\n",
              "    </tr>\n",
              "    <tr>\n",
              "      <th>...</th>\n",
              "      <td>...</td>\n",
              "      <td>...</td>\n",
              "      <td>...</td>\n",
              "    </tr>\n",
              "    <tr>\n",
              "      <th>3878</th>\n",
              "      <td>3948</td>\n",
              "      <td>Meet the Parents (2000)</td>\n",
              "      <td>Comedy</td>\n",
              "    </tr>\n",
              "    <tr>\n",
              "      <th>3879</th>\n",
              "      <td>3949</td>\n",
              "      <td>Requiem for a Dream (2000)</td>\n",
              "      <td>Drama</td>\n",
              "    </tr>\n",
              "    <tr>\n",
              "      <th>3880</th>\n",
              "      <td>3950</td>\n",
              "      <td>Tigerland (2000)</td>\n",
              "      <td>Drama</td>\n",
              "    </tr>\n",
              "    <tr>\n",
              "      <th>3881</th>\n",
              "      <td>3951</td>\n",
              "      <td>Two Family House (2000)</td>\n",
              "      <td>Drama</td>\n",
              "    </tr>\n",
              "    <tr>\n",
              "      <th>3882</th>\n",
              "      <td>3952</td>\n",
              "      <td>Contender, The (2000)</td>\n",
              "      <td>Drama|Thriller</td>\n",
              "    </tr>\n",
              "  </tbody>\n",
              "</table>\n",
              "<p>3883 rows × 3 columns</p>\n",
              "</div>\n",
              "      <button class=\"colab-df-convert\" onclick=\"convertToInteractive('df-ab98cacd-46ca-4fe9-9b8f-a37c9ca7f89d')\"\n",
              "              title=\"Convert this dataframe to an interactive table.\"\n",
              "              style=\"display:none;\">\n",
              "        \n",
              "  <svg xmlns=\"http://www.w3.org/2000/svg\" height=\"24px\"viewBox=\"0 0 24 24\"\n",
              "       width=\"24px\">\n",
              "    <path d=\"M0 0h24v24H0V0z\" fill=\"none\"/>\n",
              "    <path d=\"M18.56 5.44l.94 2.06.94-2.06 2.06-.94-2.06-.94-.94-2.06-.94 2.06-2.06.94zm-11 1L8.5 8.5l.94-2.06 2.06-.94-2.06-.94L8.5 2.5l-.94 2.06-2.06.94zm10 10l.94 2.06.94-2.06 2.06-.94-2.06-.94-.94-2.06-.94 2.06-2.06.94z\"/><path d=\"M17.41 7.96l-1.37-1.37c-.4-.4-.92-.59-1.43-.59-.52 0-1.04.2-1.43.59L10.3 9.45l-7.72 7.72c-.78.78-.78 2.05 0 2.83L4 21.41c.39.39.9.59 1.41.59.51 0 1.02-.2 1.41-.59l7.78-7.78 2.81-2.81c.8-.78.8-2.07 0-2.86zM5.41 20L4 18.59l7.72-7.72 1.47 1.35L5.41 20z\"/>\n",
              "  </svg>\n",
              "      </button>\n",
              "      \n",
              "  <style>\n",
              "    .colab-df-container {\n",
              "      display:flex;\n",
              "      flex-wrap:wrap;\n",
              "      gap: 12px;\n",
              "    }\n",
              "\n",
              "    .colab-df-convert {\n",
              "      background-color: #E8F0FE;\n",
              "      border: none;\n",
              "      border-radius: 50%;\n",
              "      cursor: pointer;\n",
              "      display: none;\n",
              "      fill: #1967D2;\n",
              "      height: 32px;\n",
              "      padding: 0 0 0 0;\n",
              "      width: 32px;\n",
              "    }\n",
              "\n",
              "    .colab-df-convert:hover {\n",
              "      background-color: #E2EBFA;\n",
              "      box-shadow: 0px 1px 2px rgba(60, 64, 67, 0.3), 0px 1px 3px 1px rgba(60, 64, 67, 0.15);\n",
              "      fill: #174EA6;\n",
              "    }\n",
              "\n",
              "    [theme=dark] .colab-df-convert {\n",
              "      background-color: #3B4455;\n",
              "      fill: #D2E3FC;\n",
              "    }\n",
              "\n",
              "    [theme=dark] .colab-df-convert:hover {\n",
              "      background-color: #434B5C;\n",
              "      box-shadow: 0px 1px 3px 1px rgba(0, 0, 0, 0.15);\n",
              "      filter: drop-shadow(0px 1px 2px rgba(0, 0, 0, 0.3));\n",
              "      fill: #FFFFFF;\n",
              "    }\n",
              "  </style>\n",
              "\n",
              "      <script>\n",
              "        const buttonEl =\n",
              "          document.querySelector('#df-ab98cacd-46ca-4fe9-9b8f-a37c9ca7f89d button.colab-df-convert');\n",
              "        buttonEl.style.display =\n",
              "          google.colab.kernel.accessAllowed ? 'block' : 'none';\n",
              "\n",
              "        async function convertToInteractive(key) {\n",
              "          const element = document.querySelector('#df-ab98cacd-46ca-4fe9-9b8f-a37c9ca7f89d');\n",
              "          const dataTable =\n",
              "            await google.colab.kernel.invokeFunction('convertToInteractive',\n",
              "                                                     [key], {});\n",
              "          if (!dataTable) return;\n",
              "\n",
              "          const docLinkHtml = 'Like what you see? Visit the ' +\n",
              "            '<a target=\"_blank\" href=https://colab.research.google.com/notebooks/data_table.ipynb>data table notebook</a>'\n",
              "            + ' to learn more about interactive tables.';\n",
              "          element.innerHTML = '';\n",
              "          dataTable['output_type'] = 'display_data';\n",
              "          await google.colab.output.renderOutput(dataTable, element);\n",
              "          const docLink = document.createElement('div');\n",
              "          docLink.innerHTML = docLinkHtml;\n",
              "          element.appendChild(docLink);\n",
              "        }\n",
              "      </script>\n",
              "    </div>\n",
              "  </div>\n",
              "  "
            ]
          },
          "metadata": {},
          "execution_count": 57
        }
      ]
    },
    {
      "cell_type": "code",
      "source": [
        "print(movies[movies['movie_id']==1]['title'])"
      ],
      "metadata": {
        "colab": {
          "base_uri": "https://localhost:8080/"
        },
        "id": "Ev_fKwZVUGfU",
        "outputId": "957fc519-bd06-43f3-fbcd-892cf21ff21d"
      },
      "execution_count": 131,
      "outputs": [
        {
          "output_type": "stream",
          "name": "stdout",
          "text": [
            "0    Toy Story (1995)\n",
            "Name: title, dtype: object\n"
          ]
        }
      ]
    },
    {
      "cell_type": "markdown",
      "source": [
        "## 데이터 분석"
      ],
      "metadata": {
        "id": "l14GF41_1HdN"
      }
    },
    {
      "cell_type": "code",
      "source": [
        "# 영화 수\n",
        "ratings['movie_id'].nunique()"
      ],
      "metadata": {
        "colab": {
          "base_uri": "https://localhost:8080/"
        },
        "id": "ogOsd8ZQlORw",
        "outputId": "40d49cfc-1ae0-4a9c-bebd-852cce846635"
      },
      "execution_count": 59,
      "outputs": [
        {
          "output_type": "execute_result",
          "data": {
            "text/plain": [
              "3628"
            ]
          },
          "metadata": {},
          "execution_count": 59
        }
      ]
    },
    {
      "cell_type": "code",
      "source": [
        "# 유저 수\n",
        "ratings['user_id'].nunique()"
      ],
      "metadata": {
        "colab": {
          "base_uri": "https://localhost:8080/"
        },
        "id": "4YJ_fmlL1Pk6",
        "outputId": "b14e4a2e-1492-4281-f081-44432171f26f"
      },
      "execution_count": 60,
      "outputs": [
        {
          "output_type": "execute_result",
          "data": {
            "text/plain": [
              "6039"
            ]
          },
          "metadata": {},
          "execution_count": 60
        }
      ]
    },
    {
      "cell_type": "code",
      "source": [
        "# 인기 많은 영화 30개\n",
        "artist_count = ratings.groupby('movie_id')['user_id'].count()\n",
        "artist_count.sort_values(ascending=False).head(30)"
      ],
      "metadata": {
        "colab": {
          "base_uri": "https://localhost:8080/"
        },
        "id": "Phe4uU3O1Pdr",
        "outputId": "6ecc146b-996b-4eaf-b056-da4013a766b6"
      },
      "execution_count": 61,
      "outputs": [
        {
          "output_type": "execute_result",
          "data": {
            "text/plain": [
              "movie_id\n",
              "2858    3211\n",
              "260     2910\n",
              "1196    2885\n",
              "1210    2716\n",
              "2028    2561\n",
              "589     2509\n",
              "593     2498\n",
              "1198    2473\n",
              "1270    2460\n",
              "2571    2434\n",
              "480     2413\n",
              "2762    2385\n",
              "608     2371\n",
              "110     2314\n",
              "1580    2297\n",
              "527     2257\n",
              "1197    2252\n",
              "2396    2213\n",
              "1617    2210\n",
              "318     2194\n",
              "858     2167\n",
              "1265    2121\n",
              "1097    2102\n",
              "2997    2066\n",
              "2716    2051\n",
              "296     2030\n",
              "356     2022\n",
              "1240    2019\n",
              "1       2000\n",
              "457     1941\n",
              "Name: user_id, dtype: int64"
            ]
          },
          "metadata": {},
          "execution_count": 61
        }
      ]
    },
    {
      "cell_type": "code",
      "source": [
        "# 유저별 몇 개의 영화를 보았는지에 대한 통계\n",
        "user_count = ratings.groupby('user_id')['movie_id'].count()\n",
        "user_count.describe()"
      ],
      "metadata": {
        "colab": {
          "base_uri": "https://localhost:8080/"
        },
        "id": "JjshoYuM1PbJ",
        "outputId": "a2bc4f35-c987-4ef2-bb47-b523a9b73887"
      },
      "execution_count": 62,
      "outputs": [
        {
          "output_type": "execute_result",
          "data": {
            "text/plain": [
              "count    6039.000000\n",
              "mean      138.512668\n",
              "std       156.241599\n",
              "min         1.000000\n",
              "25%        38.000000\n",
              "50%        81.000000\n",
              "75%       177.000000\n",
              "max      1968.000000\n",
              "Name: movie_id, dtype: float64"
            ]
          },
          "metadata": {},
          "execution_count": 62
        }
      ]
    },
    {
      "cell_type": "code",
      "source": [
        "ratings.describe()"
      ],
      "metadata": {
        "colab": {
          "base_uri": "https://localhost:8080/",
          "height": 300
        },
        "id": "r2v3hMH6A_Pk",
        "outputId": "ae0ebd6e-f02b-4d82-a9eb-cdcab228dae5"
      },
      "execution_count": 63,
      "outputs": [
        {
          "output_type": "execute_result",
          "data": {
            "text/plain": [
              "             user_id       movie_id         counts\n",
              "count  836478.000000  836478.000000  836478.000000\n",
              "mean     3033.120626    1849.099114       3.958293\n",
              "std      1729.255651    1091.870094       0.762280\n",
              "min         1.000000       1.000000       3.000000\n",
              "25%      1531.000000    1029.000000       3.000000\n",
              "50%      3080.000000    1747.000000       4.000000\n",
              "75%      4485.000000    2763.000000       5.000000\n",
              "max      6040.000000    3952.000000       5.000000"
            ],
            "text/html": [
              "\n",
              "  <div id=\"df-d875f0b1-26fa-43cf-8b9f-29d241b17427\">\n",
              "    <div class=\"colab-df-container\">\n",
              "      <div>\n",
              "<style scoped>\n",
              "    .dataframe tbody tr th:only-of-type {\n",
              "        vertical-align: middle;\n",
              "    }\n",
              "\n",
              "    .dataframe tbody tr th {\n",
              "        vertical-align: top;\n",
              "    }\n",
              "\n",
              "    .dataframe thead th {\n",
              "        text-align: right;\n",
              "    }\n",
              "</style>\n",
              "<table border=\"1\" class=\"dataframe\">\n",
              "  <thead>\n",
              "    <tr style=\"text-align: right;\">\n",
              "      <th></th>\n",
              "      <th>user_id</th>\n",
              "      <th>movie_id</th>\n",
              "      <th>counts</th>\n",
              "    </tr>\n",
              "  </thead>\n",
              "  <tbody>\n",
              "    <tr>\n",
              "      <th>count</th>\n",
              "      <td>836478.000000</td>\n",
              "      <td>836478.000000</td>\n",
              "      <td>836478.000000</td>\n",
              "    </tr>\n",
              "    <tr>\n",
              "      <th>mean</th>\n",
              "      <td>3033.120626</td>\n",
              "      <td>1849.099114</td>\n",
              "      <td>3.958293</td>\n",
              "    </tr>\n",
              "    <tr>\n",
              "      <th>std</th>\n",
              "      <td>1729.255651</td>\n",
              "      <td>1091.870094</td>\n",
              "      <td>0.762280</td>\n",
              "    </tr>\n",
              "    <tr>\n",
              "      <th>min</th>\n",
              "      <td>1.000000</td>\n",
              "      <td>1.000000</td>\n",
              "      <td>3.000000</td>\n",
              "    </tr>\n",
              "    <tr>\n",
              "      <th>25%</th>\n",
              "      <td>1531.000000</td>\n",
              "      <td>1029.000000</td>\n",
              "      <td>3.000000</td>\n",
              "    </tr>\n",
              "    <tr>\n",
              "      <th>50%</th>\n",
              "      <td>3080.000000</td>\n",
              "      <td>1747.000000</td>\n",
              "      <td>4.000000</td>\n",
              "    </tr>\n",
              "    <tr>\n",
              "      <th>75%</th>\n",
              "      <td>4485.000000</td>\n",
              "      <td>2763.000000</td>\n",
              "      <td>5.000000</td>\n",
              "    </tr>\n",
              "    <tr>\n",
              "      <th>max</th>\n",
              "      <td>6040.000000</td>\n",
              "      <td>3952.000000</td>\n",
              "      <td>5.000000</td>\n",
              "    </tr>\n",
              "  </tbody>\n",
              "</table>\n",
              "</div>\n",
              "      <button class=\"colab-df-convert\" onclick=\"convertToInteractive('df-d875f0b1-26fa-43cf-8b9f-29d241b17427')\"\n",
              "              title=\"Convert this dataframe to an interactive table.\"\n",
              "              style=\"display:none;\">\n",
              "        \n",
              "  <svg xmlns=\"http://www.w3.org/2000/svg\" height=\"24px\"viewBox=\"0 0 24 24\"\n",
              "       width=\"24px\">\n",
              "    <path d=\"M0 0h24v24H0V0z\" fill=\"none\"/>\n",
              "    <path d=\"M18.56 5.44l.94 2.06.94-2.06 2.06-.94-2.06-.94-.94-2.06-.94 2.06-2.06.94zm-11 1L8.5 8.5l.94-2.06 2.06-.94-2.06-.94L8.5 2.5l-.94 2.06-2.06.94zm10 10l.94 2.06.94-2.06 2.06-.94-2.06-.94-.94-2.06-.94 2.06-2.06.94z\"/><path d=\"M17.41 7.96l-1.37-1.37c-.4-.4-.92-.59-1.43-.59-.52 0-1.04.2-1.43.59L10.3 9.45l-7.72 7.72c-.78.78-.78 2.05 0 2.83L4 21.41c.39.39.9.59 1.41.59.51 0 1.02-.2 1.41-.59l7.78-7.78 2.81-2.81c.8-.78.8-2.07 0-2.86zM5.41 20L4 18.59l7.72-7.72 1.47 1.35L5.41 20z\"/>\n",
              "  </svg>\n",
              "      </button>\n",
              "      \n",
              "  <style>\n",
              "    .colab-df-container {\n",
              "      display:flex;\n",
              "      flex-wrap:wrap;\n",
              "      gap: 12px;\n",
              "    }\n",
              "\n",
              "    .colab-df-convert {\n",
              "      background-color: #E8F0FE;\n",
              "      border: none;\n",
              "      border-radius: 50%;\n",
              "      cursor: pointer;\n",
              "      display: none;\n",
              "      fill: #1967D2;\n",
              "      height: 32px;\n",
              "      padding: 0 0 0 0;\n",
              "      width: 32px;\n",
              "    }\n",
              "\n",
              "    .colab-df-convert:hover {\n",
              "      background-color: #E2EBFA;\n",
              "      box-shadow: 0px 1px 2px rgba(60, 64, 67, 0.3), 0px 1px 3px 1px rgba(60, 64, 67, 0.15);\n",
              "      fill: #174EA6;\n",
              "    }\n",
              "\n",
              "    [theme=dark] .colab-df-convert {\n",
              "      background-color: #3B4455;\n",
              "      fill: #D2E3FC;\n",
              "    }\n",
              "\n",
              "    [theme=dark] .colab-df-convert:hover {\n",
              "      background-color: #434B5C;\n",
              "      box-shadow: 0px 1px 3px 1px rgba(0, 0, 0, 0.15);\n",
              "      filter: drop-shadow(0px 1px 2px rgba(0, 0, 0, 0.3));\n",
              "      fill: #FFFFFF;\n",
              "    }\n",
              "  </style>\n",
              "\n",
              "      <script>\n",
              "        const buttonEl =\n",
              "          document.querySelector('#df-d875f0b1-26fa-43cf-8b9f-29d241b17427 button.colab-df-convert');\n",
              "        buttonEl.style.display =\n",
              "          google.colab.kernel.accessAllowed ? 'block' : 'none';\n",
              "\n",
              "        async function convertToInteractive(key) {\n",
              "          const element = document.querySelector('#df-d875f0b1-26fa-43cf-8b9f-29d241b17427');\n",
              "          const dataTable =\n",
              "            await google.colab.kernel.invokeFunction('convertToInteractive',\n",
              "                                                     [key], {});\n",
              "          if (!dataTable) return;\n",
              "\n",
              "          const docLinkHtml = 'Like what you see? Visit the ' +\n",
              "            '<a target=\"_blank\" href=https://colab.research.google.com/notebooks/data_table.ipynb>data table notebook</a>'\n",
              "            + ' to learn more about interactive tables.';\n",
              "          element.innerHTML = '';\n",
              "          dataTable['output_type'] = 'display_data';\n",
              "          await google.colab.output.renderOutput(dataTable, element);\n",
              "          const docLink = document.createElement('div');\n",
              "          docLink.innerHTML = docLinkHtml;\n",
              "          element.appendChild(docLink);\n",
              "        }\n",
              "      </script>\n",
              "    </div>\n",
              "  </div>\n",
              "  "
            ]
          },
          "metadata": {},
          "execution_count": 63
        }
      ]
    },
    {
      "cell_type": "code",
      "source": [
        "# 내가 선호하는 영화를 5가지 골라서 ratings에 추가해 주자. \n",
        "my_favorite = [1 , 29 , 2858 , 260 , 1196]\n",
        "\n",
        "# '3953'이라는 user_id가 위 영화를 5회씩 보았다고 가정하겠습니다.\n",
        "my_playlist = pd.DataFrame({'user_id': [6041]*5, 'movie_id': my_favorite, 'counts':5})\n",
        "\n",
        "if not ratings.isin({'user_id':[6041]})['user_id'].any():  # user_id에 '6041'이라는 데이터가 없다면\n",
        "    ratings = ratings.append(my_playlist)                           # 위에 임의로 만든 my_favorite 데이터를 추가해 줍니다. \n",
        "\n",
        "ratings.tail(10)       # 잘 추가되었는지 확인해 봅시다."
      ],
      "metadata": {
        "id": "MwjDMAx01PY7",
        "colab": {
          "base_uri": "https://localhost:8080/",
          "height": 363
        },
        "outputId": "d204ff01-43a7-47e1-db9e-525ce4e99a74"
      },
      "execution_count": 64,
      "outputs": [
        {
          "output_type": "execute_result",
          "data": {
            "text/plain": [
              "         user_id  movie_id  counts\n",
              "1000203     6040      1090       3\n",
              "1000205     6040      1094       5\n",
              "1000206     6040       562       5\n",
              "1000207     6040      1096       4\n",
              "1000208     6040      1097       4\n",
              "0           6041         1       5\n",
              "1           6041        29       5\n",
              "2           6041      2858       5\n",
              "3           6041       260       5\n",
              "4           6041      1196       5"
            ],
            "text/html": [
              "\n",
              "  <div id=\"df-45f26627-28da-4739-97f7-d915072205ad\">\n",
              "    <div class=\"colab-df-container\">\n",
              "      <div>\n",
              "<style scoped>\n",
              "    .dataframe tbody tr th:only-of-type {\n",
              "        vertical-align: middle;\n",
              "    }\n",
              "\n",
              "    .dataframe tbody tr th {\n",
              "        vertical-align: top;\n",
              "    }\n",
              "\n",
              "    .dataframe thead th {\n",
              "        text-align: right;\n",
              "    }\n",
              "</style>\n",
              "<table border=\"1\" class=\"dataframe\">\n",
              "  <thead>\n",
              "    <tr style=\"text-align: right;\">\n",
              "      <th></th>\n",
              "      <th>user_id</th>\n",
              "      <th>movie_id</th>\n",
              "      <th>counts</th>\n",
              "    </tr>\n",
              "  </thead>\n",
              "  <tbody>\n",
              "    <tr>\n",
              "      <th>1000203</th>\n",
              "      <td>6040</td>\n",
              "      <td>1090</td>\n",
              "      <td>3</td>\n",
              "    </tr>\n",
              "    <tr>\n",
              "      <th>1000205</th>\n",
              "      <td>6040</td>\n",
              "      <td>1094</td>\n",
              "      <td>5</td>\n",
              "    </tr>\n",
              "    <tr>\n",
              "      <th>1000206</th>\n",
              "      <td>6040</td>\n",
              "      <td>562</td>\n",
              "      <td>5</td>\n",
              "    </tr>\n",
              "    <tr>\n",
              "      <th>1000207</th>\n",
              "      <td>6040</td>\n",
              "      <td>1096</td>\n",
              "      <td>4</td>\n",
              "    </tr>\n",
              "    <tr>\n",
              "      <th>1000208</th>\n",
              "      <td>6040</td>\n",
              "      <td>1097</td>\n",
              "      <td>4</td>\n",
              "    </tr>\n",
              "    <tr>\n",
              "      <th>0</th>\n",
              "      <td>6041</td>\n",
              "      <td>1</td>\n",
              "      <td>5</td>\n",
              "    </tr>\n",
              "    <tr>\n",
              "      <th>1</th>\n",
              "      <td>6041</td>\n",
              "      <td>29</td>\n",
              "      <td>5</td>\n",
              "    </tr>\n",
              "    <tr>\n",
              "      <th>2</th>\n",
              "      <td>6041</td>\n",
              "      <td>2858</td>\n",
              "      <td>5</td>\n",
              "    </tr>\n",
              "    <tr>\n",
              "      <th>3</th>\n",
              "      <td>6041</td>\n",
              "      <td>260</td>\n",
              "      <td>5</td>\n",
              "    </tr>\n",
              "    <tr>\n",
              "      <th>4</th>\n",
              "      <td>6041</td>\n",
              "      <td>1196</td>\n",
              "      <td>5</td>\n",
              "    </tr>\n",
              "  </tbody>\n",
              "</table>\n",
              "</div>\n",
              "      <button class=\"colab-df-convert\" onclick=\"convertToInteractive('df-45f26627-28da-4739-97f7-d915072205ad')\"\n",
              "              title=\"Convert this dataframe to an interactive table.\"\n",
              "              style=\"display:none;\">\n",
              "        \n",
              "  <svg xmlns=\"http://www.w3.org/2000/svg\" height=\"24px\"viewBox=\"0 0 24 24\"\n",
              "       width=\"24px\">\n",
              "    <path d=\"M0 0h24v24H0V0z\" fill=\"none\"/>\n",
              "    <path d=\"M18.56 5.44l.94 2.06.94-2.06 2.06-.94-2.06-.94-.94-2.06-.94 2.06-2.06.94zm-11 1L8.5 8.5l.94-2.06 2.06-.94-2.06-.94L8.5 2.5l-.94 2.06-2.06.94zm10 10l.94 2.06.94-2.06 2.06-.94-2.06-.94-.94-2.06-.94 2.06-2.06.94z\"/><path d=\"M17.41 7.96l-1.37-1.37c-.4-.4-.92-.59-1.43-.59-.52 0-1.04.2-1.43.59L10.3 9.45l-7.72 7.72c-.78.78-.78 2.05 0 2.83L4 21.41c.39.39.9.59 1.41.59.51 0 1.02-.2 1.41-.59l7.78-7.78 2.81-2.81c.8-.78.8-2.07 0-2.86zM5.41 20L4 18.59l7.72-7.72 1.47 1.35L5.41 20z\"/>\n",
              "  </svg>\n",
              "      </button>\n",
              "      \n",
              "  <style>\n",
              "    .colab-df-container {\n",
              "      display:flex;\n",
              "      flex-wrap:wrap;\n",
              "      gap: 12px;\n",
              "    }\n",
              "\n",
              "    .colab-df-convert {\n",
              "      background-color: #E8F0FE;\n",
              "      border: none;\n",
              "      border-radius: 50%;\n",
              "      cursor: pointer;\n",
              "      display: none;\n",
              "      fill: #1967D2;\n",
              "      height: 32px;\n",
              "      padding: 0 0 0 0;\n",
              "      width: 32px;\n",
              "    }\n",
              "\n",
              "    .colab-df-convert:hover {\n",
              "      background-color: #E2EBFA;\n",
              "      box-shadow: 0px 1px 2px rgba(60, 64, 67, 0.3), 0px 1px 3px 1px rgba(60, 64, 67, 0.15);\n",
              "      fill: #174EA6;\n",
              "    }\n",
              "\n",
              "    [theme=dark] .colab-df-convert {\n",
              "      background-color: #3B4455;\n",
              "      fill: #D2E3FC;\n",
              "    }\n",
              "\n",
              "    [theme=dark] .colab-df-convert:hover {\n",
              "      background-color: #434B5C;\n",
              "      box-shadow: 0px 1px 3px 1px rgba(0, 0, 0, 0.15);\n",
              "      filter: drop-shadow(0px 1px 2px rgba(0, 0, 0, 0.3));\n",
              "      fill: #FFFFFF;\n",
              "    }\n",
              "  </style>\n",
              "\n",
              "      <script>\n",
              "        const buttonEl =\n",
              "          document.querySelector('#df-45f26627-28da-4739-97f7-d915072205ad button.colab-df-convert');\n",
              "        buttonEl.style.display =\n",
              "          google.colab.kernel.accessAllowed ? 'block' : 'none';\n",
              "\n",
              "        async function convertToInteractive(key) {\n",
              "          const element = document.querySelector('#df-45f26627-28da-4739-97f7-d915072205ad');\n",
              "          const dataTable =\n",
              "            await google.colab.kernel.invokeFunction('convertToInteractive',\n",
              "                                                     [key], {});\n",
              "          if (!dataTable) return;\n",
              "\n",
              "          const docLinkHtml = 'Like what you see? Visit the ' +\n",
              "            '<a target=\"_blank\" href=https://colab.research.google.com/notebooks/data_table.ipynb>data table notebook</a>'\n",
              "            + ' to learn more about interactive tables.';\n",
              "          element.innerHTML = '';\n",
              "          dataTable['output_type'] = 'display_data';\n",
              "          await google.colab.output.renderOutput(dataTable, element);\n",
              "          const docLink = document.createElement('div');\n",
              "          docLink.innerHTML = docLinkHtml;\n",
              "          element.appendChild(docLink);\n",
              "        }\n",
              "      </script>\n",
              "    </div>\n",
              "  </div>\n",
              "  "
            ]
          },
          "metadata": {},
          "execution_count": 64
        }
      ]
    },
    {
      "cell_type": "markdown",
      "source": [
        "## CSR(Compressed Sparse Row) Matrix"
      ],
      "metadata": {
        "id": "M9iRy6bTFib5"
      }
    },
    {
      "cell_type": "code",
      "source": [
        "# CSR 행렬\n",
        "# 실습 위에 설명보고 이해해서 만들어보기\n",
        "from scipy.sparse import csr_matrix\n",
        "\n",
        "num_user = ratings.user_id.max()+1\n",
        "num_movie = ratings.movie_id.max()+1\n",
        "\n",
        "csr_ratings = csr_matrix((ratings.counts, (ratings.user_id, ratings.movie_id)), shape= (num_user, num_movie))\n",
        "csr_ratings"
      ],
      "metadata": {
        "colab": {
          "base_uri": "https://localhost:8080/"
        },
        "id": "cDrCo9pAFV9s",
        "outputId": "ca6b7fcd-b155-442e-fbca-a0a558ae660f"
      },
      "execution_count": 89,
      "outputs": [
        {
          "output_type": "execute_result",
          "data": {
            "text/plain": [
              "<6042x3953 sparse matrix of type '<class 'numpy.int64'>'\n",
              "\twith 836483 stored elements in Compressed Sparse Row format>"
            ]
          },
          "metadata": {},
          "execution_count": 89
        }
      ]
    },
    {
      "cell_type": "markdown",
      "source": [
        "# 모델 학습하기"
      ],
      "metadata": {
        "id": "ZNnBBSJ2M8cr"
      }
    },
    {
      "cell_type": "code",
      "source": [
        "from implicit.als import AlternatingLeastSquares\n",
        "import os\n",
        "import numpy as np\n",
        "\n",
        "# implicit 라이브러리에서 권장하고 있는 부분입니다. 학습 내용과는 무관합니다.\n",
        "os.environ['OPENBLAS_NUM_THREADS']='1'\n",
        "os.environ['KMP_DUPLICATE_LIB_OK']='True'\n",
        "os.environ['MKL_NUM_THREADS']='1'"
      ],
      "metadata": {
        "id": "a45PXm-WM924"
      },
      "execution_count": 113,
      "outputs": []
    },
    {
      "cell_type": "markdown",
      "source": [
        "처음에는 factors=100, iterations=15 로 진행하였으나 모델 성능을 향상시키기 위해 수치를 늘려서 다시 학습했다."
      ],
      "metadata": {
        "id": "1ME0upRnR8xW"
      }
    },
    {
      "cell_type": "code",
      "source": [
        "# Implicit AlternatingLeastSquares 모델의 선언\n",
        "als_model = AlternatingLeastSquares(factors=200, regularization=0.01, use_gpu=False, iterations=25, dtype=np.float32)"
      ],
      "metadata": {
        "id": "aGlFu_czNDOY"
      },
      "execution_count": 114,
      "outputs": []
    },
    {
      "cell_type": "code",
      "source": [
        "# als 모델은 input으로 (item X user 꼴의 matrix를 받기 때문에 Transpose해줍니다.)\n",
        "csr_ratings_transpose = csr_ratings.T\n",
        "csr_ratings_transpose"
      ],
      "metadata": {
        "colab": {
          "base_uri": "https://localhost:8080/"
        },
        "id": "5DpWjDWwNFTb",
        "outputId": "3ebb59da-05d6-4c7a-eb4f-26c1a95fef27"
      },
      "execution_count": 115,
      "outputs": [
        {
          "output_type": "execute_result",
          "data": {
            "text/plain": [
              "<3953x6042 sparse matrix of type '<class 'numpy.int64'>'\n",
              "\twith 836483 stored elements in Compressed Sparse Column format>"
            ]
          },
          "metadata": {},
          "execution_count": 115
        }
      ]
    },
    {
      "cell_type": "code",
      "source": [
        "# 모델 훈련\n",
        "als_model.fit(csr_ratings_transpose)"
      ],
      "metadata": {
        "colab": {
          "base_uri": "https://localhost:8080/",
          "height": 49,
          "referenced_widgets": [
            "cea106d975064c02b04f5a8aaf54554c",
            "25b60731056d4c6b90b260f3eb30fe8a",
            "0728569cb7cc4d1cacb297ec50954479",
            "4b09051f7ee64297a9980c8beb1b1187",
            "52e1cbbe45d849b88d551b93354fe74f",
            "5af6618ce67f4c1f9127d197006ec861",
            "3ad9fe34002145e29dd6b4d694980ce2",
            "e9cd8dbaff1949748e2feb5feae88724",
            "64806e5776874dceb685bf31c24ea213",
            "70cad7bea5b649419808f57bfa0ff734",
            "9b2b8d2364ff4f0491896bb8ec161ffe"
          ]
        },
        "id": "ylHYjUJxNLK2",
        "outputId": "a8d0db1a-5fca-43a7-acf8-7f2a70635c97"
      },
      "execution_count": 116,
      "outputs": [
        {
          "output_type": "display_data",
          "data": {
            "text/plain": [
              "  0%|          | 0/25 [00:00<?, ?it/s]"
            ],
            "application/vnd.jupyter.widget-view+json": {
              "version_major": 2,
              "version_minor": 0,
              "model_id": "cea106d975064c02b04f5a8aaf54554c"
            }
          },
          "metadata": {}
        }
      ]
    },
    {
      "cell_type": "code",
      "source": [
        "np.shape(als_model.user_factors)"
      ],
      "metadata": {
        "colab": {
          "base_uri": "https://localhost:8080/"
        },
        "id": "oWyViBfBNgNm",
        "outputId": "5214ddf2-a3ed-40f9-a411-b518ea4bf6e6"
      },
      "execution_count": 117,
      "outputs": [
        {
          "output_type": "execute_result",
          "data": {
            "text/plain": [
              "(6042, 200)"
            ]
          },
          "metadata": {},
          "execution_count": 117
        }
      ]
    },
    {
      "cell_type": "code",
      "source": [
        "me_vector, Toy_Story_vector, Jumanji_vector = als_model.user_factors[6041], als_model.item_factors[1], als_model.item_factors[2]\n",
        "\n",
        "print(me_vector)"
      ],
      "metadata": {
        "colab": {
          "base_uri": "https://localhost:8080/"
        },
        "id": "PVMVxDEzOAp7",
        "outputId": "10ab53a2-7ec5-42ef-c1b9-89b7133bb43e"
      },
      "execution_count": 118,
      "outputs": [
        {
          "output_type": "stream",
          "name": "stdout",
          "text": [
            "[-3.01237196e-01 -7.15002343e-02 -2.66290903e-01  8.08786213e-01\n",
            "  2.85090506e-01  4.79326427e-01 -1.22726142e-01 -2.76526183e-01\n",
            " -2.44383097e-01  2.41598129e-01 -4.17976946e-01 -3.90627801e-01\n",
            " -2.77597517e-01 -3.75827402e-01 -1.64066195e-01 -3.31705064e-02\n",
            "  5.38211763e-01  2.78370380e-01 -1.43366084e-02 -3.83500189e-01\n",
            "  2.99701989e-01 -5.57929389e-02  9.65293646e-02  1.70125410e-01\n",
            "  2.57658154e-01  3.15725654e-01 -3.99420738e-01  1.08310647e-01\n",
            "  2.55518943e-01  3.32848839e-02  2.28340477e-01  2.95595706e-01\n",
            " -3.71129662e-02 -1.15689270e-01  8.33958507e-01 -4.29112434e-01\n",
            " -4.36374605e-01 -3.64542544e-01  5.07169724e-01 -4.29887101e-02\n",
            "  3.44085872e-01 -5.64766943e-01 -3.18187028e-01  2.52248980e-02\n",
            " -3.23109701e-02  4.44234014e-01 -7.50042498e-01 -1.42542914e-01\n",
            "  7.30861127e-02  3.55151594e-01 -3.03183436e-01 -4.07928914e-01\n",
            " -1.29550353e-01  2.08062738e-01 -1.82580855e-02 -6.99118897e-02\n",
            "  5.81458688e-01 -6.76179707e-01 -4.59553227e-02 -2.54978299e-01\n",
            "  5.01303256e-01  1.66720375e-01 -6.10637605e-01  5.87742142e-02\n",
            " -6.55917704e-01  1.01603009e-01 -9.65907797e-02  5.51559389e-01\n",
            " -1.80067658e-01  4.10740137e-01 -9.52583134e-01 -2.54734486e-01\n",
            " -5.53539097e-01  3.78017306e-01 -2.96726972e-01  2.66047001e-01\n",
            " -5.61719202e-02  2.54244477e-01 -4.48224366e-01 -2.87554860e-01\n",
            " -1.07243307e-01  1.16086602e-02  2.53847450e-01  2.14221656e-01\n",
            " -8.15724969e-01 -6.50915504e-01  1.93468891e-02 -7.55670518e-02\n",
            "  3.70499969e-01 -7.65328228e-01 -3.36048938e-02 -1.89956039e-01\n",
            "  6.60482109e-01 -6.54448450e-01 -5.20181775e-01 -7.18409270e-02\n",
            "  2.45901167e-01 -5.36267936e-01 -7.32286572e-01 -2.90067106e-01\n",
            "  1.58674896e-01  1.94608718e-01  6.49880886e-01  5.12098372e-01\n",
            " -9.74490345e-02 -2.13635638e-01  4.09301574e-04  1.12168435e-02\n",
            " -7.44729415e-02  6.78822339e-01  1.16586573e-01  1.06395029e-01\n",
            "  5.92952788e-01  2.88411826e-01  5.14913201e-01  3.69948536e-01\n",
            "  4.63073105e-01 -7.19627976e-01  4.82320249e-01  4.47220087e-01\n",
            "  2.03984082e-01  3.34823579e-01  5.45462370e-01  4.16910052e-01\n",
            " -2.44360059e-01  4.45466995e-01 -3.74367982e-01 -3.43071848e-01\n",
            " -3.97177100e-01  9.79360715e-02  4.35091972e-01  7.54141584e-02\n",
            "  2.48177052e-01 -4.98570323e-01  4.93781894e-01 -2.11476088e-01\n",
            "  4.58015323e-01 -3.89264002e-02  3.01334243e-02 -2.46877119e-01\n",
            "  6.81384921e-01 -1.56491682e-01  2.88709015e-01 -1.64312914e-01\n",
            " -3.15995276e-01  6.12853765e-02 -1.81090310e-01 -3.72984797e-01\n",
            "  1.05447955e-01 -3.33543122e-02 -4.73400414e-01  1.68479849e-02\n",
            " -3.35694224e-01 -1.87519431e-01 -8.84752050e-02 -1.06308050e-01\n",
            "  5.38156152e-01 -2.38964409e-02  4.77548391e-01  6.49745345e-01\n",
            "  2.64525749e-02 -9.63320583e-02  1.74038306e-01  1.52773499e-01\n",
            "  2.29152948e-01  3.74478608e-01  5.68973320e-03  5.36097288e-01\n",
            " -1.81872964e-01 -4.69249338e-01 -5.70296288e-01 -5.52785620e-02\n",
            " -3.64260495e-01 -4.41901714e-01  2.51553059e-01 -4.53600198e-01\n",
            " -2.01241538e-01  2.51520276e-01  1.04294991e+00  7.61097968e-01\n",
            " -3.31679612e-01 -1.52575538e-01  2.78932750e-01 -3.36203799e-02\n",
            "  5.03380716e-01  4.81802404e-01  2.21353501e-01 -1.95826683e-02\n",
            " -9.12297904e-01 -3.00404370e-01  3.55618447e-01 -4.36771363e-01\n",
            " -1.39247820e-01 -3.65105093e-01 -3.58913392e-01  1.00113213e-01\n",
            "  4.64596123e-01  4.19493169e-01  4.69589680e-01 -2.63048679e-01]\n"
          ]
        }
      ]
    },
    {
      "cell_type": "code",
      "source": [
        "Toy_Story_vector"
      ],
      "metadata": {
        "colab": {
          "base_uri": "https://localhost:8080/"
        },
        "id": "EcmhoBXFQiOM",
        "outputId": "ef8eeb7d-b32e-4075-818c-f5301b7a96c4"
      },
      "execution_count": 119,
      "outputs": [
        {
          "output_type": "execute_result",
          "data": {
            "text/plain": [
              "array([ 1.13161830e-02, -2.64830235e-03, -6.56355824e-03,  3.47598060e-03,\n",
              "        6.77310675e-03,  1.46951713e-02, -1.81434676e-02, -9.64516215e-03,\n",
              "       -2.98103336e-02, -4.61298181e-03,  2.89685628e-03, -1.67800970e-02,\n",
              "       -2.88606025e-02, -8.16168729e-03,  1.07474895e-02, -9.80384182e-04,\n",
              "        3.27427834e-02, -3.41008906e-03, -1.62979160e-02,  7.43287243e-03,\n",
              "        3.95099679e-03, -1.52572133e-02, -2.47359313e-02,  1.22764260e-02,\n",
              "        1.59497131e-02, -5.37877809e-03,  1.59154665e-02,  1.80993155e-02,\n",
              "       -1.43961376e-02,  6.69703772e-03,  1.03691742e-02,  1.18238516e-02,\n",
              "        1.91484615e-02,  1.74280535e-02,  5.23734745e-03,  1.78560670e-02,\n",
              "       -1.68758035e-02, -7.99811538e-03,  2.83698998e-02,  9.33888368e-03,\n",
              "        2.03074943e-02,  2.17489130e-03,  2.15315912e-03,  2.22330429e-02,\n",
              "        2.09549312e-02, -1.02731381e-02,  3.08360416e-03,  1.04982750e-02,\n",
              "       -9.12570395e-03,  1.26597863e-02, -5.06536011e-03,  9.32403188e-03,\n",
              "       -1.38402190e-02, -1.71453655e-02,  9.54171468e-04,  5.85089624e-03,\n",
              "        1.83782578e-02,  5.90288825e-03,  3.54516581e-02,  9.39969532e-03,\n",
              "        8.40637088e-03,  3.65079045e-02, -2.64533535e-02, -1.17052123e-02,\n",
              "       -1.81142204e-02,  3.64850350e-02,  2.63723382e-03,  4.40721996e-02,\n",
              "       -1.16431881e-02,  1.61305834e-02, -8.38691089e-03,  5.91906672e-03,\n",
              "       -2.45052539e-02,  2.42843628e-02, -1.14208935e-02,  9.72719956e-03,\n",
              "       -2.48786714e-02, -1.33953607e-02, -4.55769226e-02, -1.52668348e-02,\n",
              "        1.70688108e-02,  9.99214966e-03,  6.75072894e-03,  2.26397123e-02,\n",
              "        8.95860139e-03, -4.40896638e-02,  1.69040468e-02,  2.42648944e-02,\n",
              "        2.87336446e-02,  4.13663452e-03,  1.17217815e-02,  1.83895212e-02,\n",
              "        4.82533835e-02,  1.29482092e-03,  1.56179816e-03, -9.31620691e-03,\n",
              "       -1.15547096e-02,  3.47526483e-02, -4.85658385e-02, -2.52702273e-03,\n",
              "        3.07925716e-02, -2.03320477e-02,  1.14877578e-02,  2.45731324e-02,\n",
              "       -6.23086421e-03, -9.16813686e-03, -1.38427708e-02, -2.16362476e-02,\n",
              "        2.33497880e-02,  3.85995656e-02,  5.17966924e-03, -8.49874038e-03,\n",
              "        1.31459516e-02,  6.41553197e-03,  3.77746124e-04,  2.30938811e-02,\n",
              "       -6.46640453e-03,  4.53717820e-03,  9.66097880e-03,  3.37134041e-02,\n",
              "        1.31627806e-02,  2.69358028e-02,  3.68633829e-02, -7.18606031e-03,\n",
              "       -2.80549135e-02,  2.69339955e-03,  1.14950037e-03,  1.71794631e-02,\n",
              "       -2.93150055e-03, -1.43627236e-02,  2.84394119e-02, -1.73893739e-02,\n",
              "        4.32287110e-03, -1.87175982e-02,  2.05495507e-02, -7.40907155e-03,\n",
              "        2.02926304e-02,  4.15597903e-03,  5.23249898e-03, -2.67493837e-02,\n",
              "        2.88833734e-02, -6.13209605e-03,  3.46195213e-02, -1.38614913e-02,\n",
              "       -4.82694086e-05,  4.67601558e-06, -7.75625638e-04,  3.07009649e-02,\n",
              "        1.39108975e-03,  1.51277510e-02, -1.32771730e-02, -1.55003415e-02,\n",
              "        1.16813909e-02, -1.57518312e-03, -2.57987622e-02, -3.31285819e-02,\n",
              "        2.59823222e-02,  6.21978426e-03,  4.95678447e-02,  2.24026516e-02,\n",
              "        6.86634192e-03, -1.94694735e-02,  1.03101721e-02, -3.71526205e-03,\n",
              "        1.17760943e-02,  4.02681641e-02,  2.07861792e-03,  1.35625908e-02,\n",
              "        2.30552964e-02, -5.74244244e-04,  2.82577891e-02,  2.92076170e-02,\n",
              "       -3.71636637e-03, -2.25012116e-02,  2.41688415e-02, -8.25669430e-03,\n",
              "        1.68970302e-02, -2.98183933e-02,  1.73782334e-02,  3.08349114e-02,\n",
              "       -5.69288991e-03,  5.13075758e-03,  3.61191817e-02,  1.04491115e-02,\n",
              "        2.15846654e-02, -5.86609822e-03,  1.98867396e-02,  5.87271620e-03,\n",
              "       -1.52727710e-02,  4.95715067e-03,  1.82213690e-02,  8.14884901e-03,\n",
              "       -4.23445255e-02, -7.60549388e-04,  1.08960113e-02,  3.89770581e-03,\n",
              "        3.51126753e-02,  2.99649257e-02,  1.13230359e-04,  5.35538932e-03],\n",
              "      dtype=float32)"
            ]
          },
          "metadata": {},
          "execution_count": 119
        }
      ]
    },
    {
      "cell_type": "code",
      "source": [
        "Jumanji_vector"
      ],
      "metadata": {
        "colab": {
          "base_uri": "https://localhost:8080/"
        },
        "id": "QCMD_olVOV6s",
        "outputId": "39e2f6d6-f2d2-44c6-85a6-4755c049ee5d"
      },
      "execution_count": 120,
      "outputs": [
        {
          "output_type": "execute_result",
          "data": {
            "text/plain": [
              "array([-1.32106859e-02,  3.87104265e-02,  9.45161097e-04,  1.12666441e-02,\n",
              "       -1.34573309e-02, -1.38417343e-02, -2.99877711e-02,  3.53351794e-03,\n",
              "       -5.25662815e-03, -1.82427708e-02,  4.46447078e-03, -1.10082161e-02,\n",
              "        1.61263708e-03,  1.38277402e-02,  1.28648672e-02,  4.49282117e-03,\n",
              "        1.29679330e-02,  6.33034343e-03,  2.01682691e-02, -1.72477867e-03,\n",
              "       -1.42511132e-03,  9.07743908e-03, -4.28356091e-03,  2.88057351e-03,\n",
              "       -1.80183200e-03, -6.33623917e-03, -3.99884069e-03, -1.71985209e-03,\n",
              "        1.93481278e-02,  8.60074442e-03,  1.14014568e-02,  1.40743107e-02,\n",
              "        4.45030928e-02,  9.24917031e-03,  1.91425141e-02, -1.65594593e-02,\n",
              "        7.85261672e-03, -1.52380196e-02,  1.62897687e-02,  1.28478827e-02,\n",
              "        1.20730000e-02,  1.72082335e-02,  3.37266611e-05, -9.99909546e-03,\n",
              "        1.11201163e-02,  1.34869246e-02,  5.66419214e-03, -3.02443723e-03,\n",
              "       -2.03482248e-03, -2.38597598e-02, -1.67858191e-02, -1.05294669e-02,\n",
              "        2.43482478e-02,  1.88518669e-02,  7.27751013e-03,  5.49079524e-03,\n",
              "        1.63097102e-02,  9.80870705e-03,  1.52267162e-02,  1.12101892e-02,\n",
              "       -8.98930617e-03,  5.19807963e-03,  1.46612115e-02,  6.40782947e-03,\n",
              "        9.22586117e-03,  2.24298481e-02,  9.57809296e-03,  1.04346164e-02,\n",
              "        7.56512070e-03, -5.96793415e-03, -2.67708383e-04, -1.06951548e-02,\n",
              "       -1.48106541e-03,  1.41588738e-02, -1.31623494e-02,  1.41225969e-02,\n",
              "       -4.50792769e-03,  3.03586392e-04, -3.32952919e-03, -2.46152356e-02,\n",
              "        3.00316364e-02,  4.17834148e-02,  5.47654089e-03, -1.58429276e-02,\n",
              "        7.89508130e-03,  8.40520021e-03,  5.20060956e-03,  2.36821435e-02,\n",
              "        1.15813371e-02,  1.90577703e-03,  1.89558528e-02,  9.87533201e-03,\n",
              "        1.35548916e-02,  1.25785572e-02,  1.62912346e-02, -5.17081749e-03,\n",
              "        2.00108234e-02, -1.03254979e-02,  2.12433422e-03,  2.66703162e-02,\n",
              "       -5.50605357e-03, -4.27673897e-03,  4.88102017e-03,  5.56283072e-03,\n",
              "       -1.55953681e-02,  4.72476892e-02,  1.17025431e-02, -6.23159297e-03,\n",
              "        1.42541211e-02,  2.06242669e-02, -9.65057500e-03,  2.64818743e-02,\n",
              "       -7.06345262e-03,  7.79061113e-03, -2.27476992e-02,  8.03672709e-04,\n",
              "        2.17507593e-02,  3.85084515e-03,  1.59974874e-03,  4.01514675e-03,\n",
              "        1.80040486e-02,  3.75753604e-02,  3.74847697e-03,  8.15925933e-03,\n",
              "        2.78375577e-03,  1.87176056e-02,  3.39715071e-02,  4.15432360e-03,\n",
              "        4.98031871e-03,  6.76844269e-03, -3.41539679e-04, -2.26596161e-03,\n",
              "       -1.07372962e-02,  1.40329590e-02,  6.34955755e-03,  8.79510958e-03,\n",
              "       -2.44188718e-02,  1.82903707e-02,  1.37634361e-02,  1.47188390e-02,\n",
              "        1.19465431e-02,  3.22155189e-04, -7.16782082e-03,  2.21787835e-03,\n",
              "        7.49831228e-03, -2.23496609e-04,  2.07432378e-02,  8.38375767e-04,\n",
              "        1.39492908e-02,  1.83921009e-02,  1.70999614e-03,  2.06719339e-02,\n",
              "       -6.54304679e-03,  6.15368783e-03,  2.31230427e-02, -4.22332296e-03,\n",
              "       -7.51035102e-03, -1.42393252e-02,  8.50265060e-05, -1.68193423e-03,\n",
              "        1.41351037e-02,  1.51271978e-02,  2.14200038e-02,  9.87058273e-04,\n",
              "       -4.12479276e-03,  8.78278818e-03, -3.92736401e-03, -7.35324249e-03,\n",
              "        9.90259461e-03,  1.94679741e-02, -2.13650451e-03,  4.18899488e-03,\n",
              "        1.47494609e-02, -1.14976419e-02,  9.57738049e-03,  1.38654001e-03,\n",
              "       -2.02749879e-03,  8.05275142e-03,  2.17078701e-02,  3.46945878e-03,\n",
              "        3.87952523e-03,  1.37956850e-02, -1.77852181e-03,  1.32791568e-02,\n",
              "        8.34249146e-03,  2.32616998e-03,  3.91918467e-03,  9.22341086e-03,\n",
              "        1.79745164e-03, -8.38961732e-03,  6.54875720e-03,  2.27687582e-02,\n",
              "        1.46411285e-02,  2.22993083e-02,  3.60235246e-03, -5.27289649e-03,\n",
              "        1.34947533e-02,  2.04435154e-03,  3.68582383e-02,  3.79653322e-03],\n",
              "      dtype=float32)"
            ]
          },
          "metadata": {},
          "execution_count": 120
        }
      ]
    },
    {
      "cell_type": "code",
      "source": [
        "# me와 Toy_Story를 내적하는 코드\n",
        "np.dot(me_vector, Toy_Story_vector)"
      ],
      "metadata": {
        "colab": {
          "base_uri": "https://localhost:8080/"
        },
        "id": "thRV8FmiRSyd",
        "outputId": "dc58441f-4dea-4541-f5d3-a228340e2608"
      },
      "execution_count": 121,
      "outputs": [
        {
          "output_type": "execute_result",
          "data": {
            "text/plain": [
              "0.64274406"
            ]
          },
          "metadata": {},
          "execution_count": 121
        }
      ]
    },
    {
      "cell_type": "code",
      "source": [
        "# me와 Jumanji를 내적하는 코드\n",
        "np.dot(me_vector, Jumanji_vector)"
      ],
      "metadata": {
        "colab": {
          "base_uri": "https://localhost:8080/"
        },
        "id": "qUg55EhSOZta",
        "outputId": "c4b391e1-37aa-416d-a516-79f55c065d0f"
      },
      "execution_count": 122,
      "outputs": [
        {
          "output_type": "execute_result",
          "data": {
            "text/plain": [
              "0.04388515"
            ]
          },
          "metadata": {},
          "execution_count": 122
        }
      ]
    },
    {
      "cell_type": "markdown",
      "source": [
        "# 영화 추천 받기"
      ],
      "metadata": {
        "id": "Yb706VDBUso_"
      }
    },
    {
      "cell_type": "markdown",
      "source": [
        "## 비슷한 영화 찾기"
      ],
      "metadata": {
        "id": "1KcpKe8AUupC"
      }
    },
    {
      "cell_type": "code",
      "source": [
        "# 토이 스토리와 비슷한 영화 찾기\n",
        "similar_movie = als_model.similar_items(1, N=15)\n",
        "similar_movie"
      ],
      "metadata": {
        "colab": {
          "base_uri": "https://localhost:8080/"
        },
        "id": "c4AtU1JFUwSA",
        "outputId": "1830cb7e-4492-492b-95a2-36e41d1f5c61"
      },
      "execution_count": 132,
      "outputs": [
        {
          "output_type": "execute_result",
          "data": {
            "text/plain": [
              "[(1, 1.0000001),\n",
              " (3114, 0.54577535),\n",
              " (588, 0.35402784),\n",
              " (2355, 0.3466607),\n",
              " (34, 0.32231),\n",
              " (1265, 0.3046557),\n",
              " (364, 0.30336314),\n",
              " (106, 0.2785636),\n",
              " (595, 0.2753537),\n",
              " (1566, 0.26169538),\n",
              " (1920, 0.2585002),\n",
              " (1473, 0.25755847),\n",
              " (559, 0.2567972),\n",
              " (3796, 0.2509375),\n",
              " (854, 0.25038612)]"
            ]
          },
          "metadata": {},
          "execution_count": 132
        }
      ]
    },
    {
      "cell_type": "code",
      "source": [
        "print(movies[movies['movie_id']==3114]['title'])"
      ],
      "metadata": {
        "colab": {
          "base_uri": "https://localhost:8080/"
        },
        "id": "WEguHqtEU9zt",
        "outputId": "dfda7431-3a91-49c2-822b-b306c1c7fd1c"
      },
      "execution_count": 134,
      "outputs": [
        {
          "output_type": "stream",
          "name": "stdout",
          "text": [
            "Series([], Name: title, dtype: object)\n"
          ]
        }
      ]
    },
    {
      "cell_type": "code",
      "source": [
        "print(movies[movies['movie_id']==588]['title'])"
      ],
      "metadata": {
        "colab": {
          "base_uri": "https://localhost:8080/"
        },
        "id": "6Zp_koFdVGQ4",
        "outputId": "d0080931-a4c4-4dd6-a8ca-060f9a48c7a2"
      },
      "execution_count": 135,
      "outputs": [
        {
          "output_type": "stream",
          "name": "stdout",
          "text": [
            "584    Aladdin (1992)\n",
            "Name: title, dtype: object\n"
          ]
        }
      ]
    },
    {
      "cell_type": "markdown",
      "source": [
        "자기 자신을 제외하고 Toy Story 와 가장 비슷한 영화를 찾아본 결과, 상위 2개를 보니 Toy Story 2 와 Aladdin 이 추천되었음을 확인할 수 있었다. "
      ],
      "metadata": {
        "id": "-OuwCCdIVJPT"
      }
    },
    {
      "cell_type": "markdown",
      "source": [
        "## 영화 추천 받기\n",
        "\n",
        "AlternatingLeastSquares 클래스에 구현되어 있는 recommend 메서드를 통해 좋아할 만한 아티스트를 추천받는다. filter_already_liked_items 는 유저가 이미 평가한 아이템은 제외하는 Argument이다."
      ],
      "metadata": {
        "id": "B9tvYfsaVdnO"
      }
    },
    {
      "cell_type": "code",
      "source": [
        "# recommend에서는 user*item CSR Matrix를 받습니다.\n",
        "artist_recommended = als_model.recommend(6041, csr_ratings, N=20, filter_already_liked_items=True)\n",
        "artist_recommended"
      ],
      "metadata": {
        "colab": {
          "base_uri": "https://localhost:8080/"
        },
        "id": "kYtHDf_eVfgq",
        "outputId": "5c3cd04e-3e16-4db2-8655-6dcecf9493a0"
      },
      "execution_count": 136,
      "outputs": [
        {
          "output_type": "execute_result",
          "data": {
            "text/plain": [
              "[(1210, 0.6959924),\n",
              " (3114, 0.39736062),\n",
              " (1198, 0.34678498),\n",
              " (1968, 0.25392047),\n",
              " (2571, 0.24661247),\n",
              " (2997, 0.21795872),\n",
              " (2396, 0.20210692),\n",
              " (2628, 0.19776239),\n",
              " (924, 0.19395953),\n",
              " (2355, 0.17408553),\n",
              " (1214, 0.16718647),\n",
              " (750, 0.16377306),\n",
              " (1270, 0.16094126),\n",
              " (588, 0.1594357),\n",
              " (2600, 0.15768252),\n",
              " (1923, 0.15037411),\n",
              " (1721, 0.14984623),\n",
              " (858, 0.13915017),\n",
              " (1175, 0.1367032),\n",
              " (3000, 0.13527879)]"
            ]
          },
          "metadata": {},
          "execution_count": 136
        }
      ]
    },
    {
      "cell_type": "code",
      "source": [
        "print(movies[movies['movie_id']==1210]['title'])"
      ],
      "metadata": {
        "colab": {
          "base_uri": "https://localhost:8080/"
        },
        "id": "Wrhmhz7TVw-N",
        "outputId": "f5f4c126-3af2-4321-a2fa-42164e840dec"
      },
      "execution_count": 137,
      "outputs": [
        {
          "output_type": "stream",
          "name": "stdout",
          "text": [
            "1192    Star Wars: Episode VI - Return of the Jedi (1983)\n",
            "Name: title, dtype: object\n"
          ]
        }
      ]
    },
    {
      "cell_type": "code",
      "source": [
        "print(movies[movies['movie_id']==1198]['title'])"
      ],
      "metadata": {
        "colab": {
          "base_uri": "https://localhost:8080/"
        },
        "id": "SyNsl9IAVw4s",
        "outputId": "3b08c9fa-47ee-4af7-cd60-c9c39c493fc3"
      },
      "execution_count": 138,
      "outputs": [
        {
          "output_type": "stream",
          "name": "stdout",
          "text": [
            "1180    Raiders of the Lost Ark (1981)\n",
            "Name: title, dtype: object\n"
          ]
        }
      ]
    },
    {
      "cell_type": "markdown",
      "source": [
        "상위 3개의 영화를 보니 스타 워즈 6, 토이스토리 2, 레이더스가 추천되었다.\n",
        "\n",
        "이 추천에 데이터가 얼마나 기여했는지 확인해보자"
      ],
      "metadata": {
        "id": "JDdDuK0YWH1J"
      }
    },
    {
      "cell_type": "code",
      "source": [
        "explain = als_model.explain(6041, csr_ratings, itemid=1210)"
      ],
      "metadata": {
        "id": "DJTbXGlfWME0"
      },
      "execution_count": 140,
      "outputs": []
    },
    {
      "cell_type": "code",
      "source": [
        "explain[1]"
      ],
      "metadata": {
        "colab": {
          "base_uri": "https://localhost:8080/"
        },
        "id": "8xaoqg8eXGgJ",
        "outputId": "f65131f1-732b-482d-d942-ba585c9ca2ea"
      },
      "execution_count": 142,
      "outputs": [
        {
          "output_type": "execute_result",
          "data": {
            "text/plain": [
              "[(1196, 0.515412645394323),\n",
              " (29, 0.07178617587031033),\n",
              " (260, 0.07054603322703788),\n",
              " (2858, 0.04289926063692712),\n",
              " (1, -0.014490336717289084)]"
            ]
          },
          "metadata": {},
          "execution_count": 142
        }
      ]
    },
    {
      "cell_type": "code",
      "source": [
        "print(movies[movies['movie_id']==1196]['title'])"
      ],
      "metadata": {
        "colab": {
          "base_uri": "https://localhost:8080/"
        },
        "id": "MRJZ7Mq4XXMk",
        "outputId": "f7b54819-c63b-4ea3-8f3d-151989679fbd"
      },
      "execution_count": 143,
      "outputs": [
        {
          "output_type": "stream",
          "name": "stdout",
          "text": [
            "1178    Star Wars: Episode V - The Empire Strikes Back...\n",
            "Name: title, dtype: object\n"
          ]
        }
      ]
    },
    {
      "cell_type": "markdown",
      "source": [
        "스타 워즈 6편을 추천하는데에 스타 워즈 5편이 가장 큰 기여를 했음을 알 수 있다.\n",
        "\n",
        "실제로 같은 시리즈로 서로 연관이 매우 깊으므로 영화끼리의 관계를 잘 파악하고 있다고 할 수 있다."
      ],
      "metadata": {
        "id": "fBJyaFqfXjkx"
      }
    },
    {
      "cell_type": "markdown",
      "source": [
        "# 회고\n",
        "\n",
        "이번 노드에서는 특정한 개인에게 영화를 추천해주는 모델을 만들었다. 사용자가 좋아하는 영화 데이터가 있으면 그것들과 유사한 영화를 추천해주는 것이다. 하지만 영화들에 대한 데이터는 없고, 오직 어떤 사람들이 어떤 영화를 보고 어떤 평점을 매겼는가에 대한 데이터셋만을 가지고 진행한다는 점에서 기존의 노드와는 달랐다.\n",
        "\n",
        "나는 수많은 사람들이 평점을 매긴 데이터만을 가지고 특정 영화 5개를 선호하는 유저를 만들어 추가했다. 각각의 유저들은 자신만의 취향이 있으며 이로 인해 서로 유사한 영화들을 선호하리라 예상할 수 있다. 따라서 그들의 경향성을 살펴보면 우리가 비록 영화들에 대한 데이터가 따로 없더라도 영화들끼리의 관계를 파악할 수 있게 될 것이다.\n",
        "\n",
        "실제로 MF 모델을 통해 서로 비슷한 영화들을 찾아내는 데에 성공했다. 사람들의 평점만을 가지고 가장 관련있는 영화로 같은 시리즈 내의 다른 후속작들을 찾아낸 것이다. 그 외에도 장르나 분위기가 비슷한 영화들도 잘 찾아내었고 이를 통해 영화 추천도 성공적으로 해냈다.\n",
        "\n",
        "하지만 중간에 이해하기 힘든 부분이 있었다. 바로 모델 학습 후 벡터로 나타내는 파트였다. 기존에 미리 좋아하는 영화로 집어넣은 영화를 다시 그 유저와 내적했을 때 나는 1 혹은 1에 가까운 값이 나올 줄 알았으나 처음에 0.46 이라는 낮은 값이 나왔다. 모델 학습이 덜 된 것으로 판단하고 학습을 더 진행한 후에도 0.64 정도의 수치만 나왔을 뿐이다. 그러나 노드를 좀 더 진행한 후에 어째서 그랬는지 알 수 있었다. 영화 추천은 내적값이 가장 높은 순서대로 나오므로 절대적인 값은 그리 중요하지 않았던 것이다. 0.3 정도만 되어도 아주 높은 추천 순위에 있으며 결국 중요한 것은 어떤 수치 이상일 때 추천할만한가를 설정하는 부분에 있었다는 사실을 깨달았다.\n",
        "\n",
        "마지막으로 아쉬운 점이 있었다면 쥬만지의 내적 값이 아주 작게 나왔다는 것이다. 영화 추천을 통해 분명 유사한 영화를 찾아낼 수 있었지만 그럼에도 일부 영화는 비슷함에도 불구하고 찾아내지 못 했다는 점을 알 수 있었다.\n",
        "\n",
        "하지만 영화 추천에서는 일부 추천할만한 영화를 찾아내지 못 하는 것보다, 전혀 생뚱맞은 영화를 추천해버리는 것이 더 나쁜 일이므로 일어날 수 있는 경우라고 생각한다."
      ],
      "metadata": {
        "id": "wiV1o0rgXx_y"
      }
    }
  ]
}